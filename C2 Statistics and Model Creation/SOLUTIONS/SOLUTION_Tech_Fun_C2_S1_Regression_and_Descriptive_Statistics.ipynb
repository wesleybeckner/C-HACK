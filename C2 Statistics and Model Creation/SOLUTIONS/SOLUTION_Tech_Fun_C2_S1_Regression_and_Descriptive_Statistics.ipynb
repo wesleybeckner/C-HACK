{
  "nbformat": 4,
  "nbformat_minor": 0,
  "metadata": {
    "colab": {
      "name": "SOLUTION Tech Fun C2 S1 Regression and Descriptive Statistics.ipynb",
      "provenance": [],
      "collapsed_sections": [],
      "toc_visible": true,
      "authorship_tag": "ABX9TyOM9r6WHIxZ8J1tRqxPUIU7",
      "include_colab_link": true
    },
    "kernelspec": {
      "name": "python3",
      "display_name": "Python 3"
    },
    "language_info": {
      "name": "python"
    },
    "widgets": {
      "application/vnd.jupyter.widget-state+json": {
        "03023728bd804da49819c3c04509c321": {
          "model_module": "@jupyter-widgets/controls",
          "model_name": "VBoxModel",
          "state": {
            "_view_name": "VBoxView",
            "_dom_classes": [
              "widget-interact"
            ],
            "_model_name": "VBoxModel",
            "_view_module": "@jupyter-widgets/controls",
            "_model_module_version": "1.5.0",
            "_view_count": null,
            "_view_module_version": "1.5.0",
            "box_style": "",
            "layout": "IPY_MODEL_fb38927e69eb4acbadfe248bf9b54b67",
            "_model_module": "@jupyter-widgets/controls",
            "children": [
              "IPY_MODEL_e2ef516a9a0f49d688915ad9c572a5a5",
              "IPY_MODEL_a769babbed10443798cac6d4db822d71"
            ]
          }
        },
        "fb38927e69eb4acbadfe248bf9b54b67": {
          "model_module": "@jupyter-widgets/base",
          "model_name": "LayoutModel",
          "state": {
            "_view_name": "LayoutView",
            "grid_template_rows": null,
            "right": null,
            "justify_content": null,
            "_view_module": "@jupyter-widgets/base",
            "overflow": null,
            "_model_module_version": "1.2.0",
            "_view_count": null,
            "flex_flow": null,
            "width": null,
            "min_width": null,
            "border": null,
            "align_items": null,
            "bottom": null,
            "_model_module": "@jupyter-widgets/base",
            "top": null,
            "grid_column": null,
            "overflow_y": null,
            "overflow_x": null,
            "grid_auto_flow": null,
            "grid_area": null,
            "grid_template_columns": null,
            "flex": null,
            "_model_name": "LayoutModel",
            "justify_items": null,
            "grid_row": null,
            "max_height": null,
            "align_content": null,
            "visibility": null,
            "align_self": null,
            "height": null,
            "min_height": null,
            "padding": null,
            "grid_auto_rows": null,
            "grid_gap": null,
            "max_width": null,
            "order": null,
            "_view_module_version": "1.2.0",
            "grid_template_areas": null,
            "object_position": null,
            "object_fit": null,
            "grid_auto_columns": null,
            "margin": null,
            "display": null,
            "left": null
          }
        },
        "e2ef516a9a0f49d688915ad9c572a5a5": {
          "model_module": "@jupyter-widgets/controls",
          "model_name": "DropdownModel",
          "state": {
            "_options_labels": [
              "skew",
              "kurtosis",
              "pearsons _quality",
              "null count",
              "median",
              "mean"
            ],
            "_view_name": "DropdownView",
            "style": "IPY_MODEL_19aaa3c1a8144108839aed07b6b2f714",
            "_dom_classes": [],
            "description": "metric",
            "_model_name": "DropdownModel",
            "index": 3,
            "_view_module": "@jupyter-widgets/controls",
            "_model_module_version": "1.5.0",
            "_view_count": null,
            "disabled": false,
            "_view_module_version": "1.5.0",
            "description_tooltip": null,
            "_model_module": "@jupyter-widgets/controls",
            "layout": "IPY_MODEL_6628f878cb3b46399d7070eb947c3b7b"
          }
        },
        "a769babbed10443798cac6d4db822d71": {
          "model_module": "@jupyter-widgets/output",
          "model_name": "OutputModel",
          "state": {
            "_view_name": "OutputView",
            "msg_id": "",
            "_dom_classes": [],
            "_model_name": "OutputModel",
            "outputs": [
              {
                "output_type": "display_data",
                "metadata": {
                  "tags": [],
                  "needs_background": "light"
                },
                "image/png": "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\n",
                "text/plain": "<Figure size 720x720 with 1 Axes>"
              }
            ],
            "_view_module": "@jupyter-widgets/output",
            "_model_module_version": "1.0.0",
            "_view_count": null,
            "_view_module_version": "1.0.0",
            "layout": "IPY_MODEL_22ac88df67c44d35ad01a61e212492f7",
            "_model_module": "@jupyter-widgets/output"
          }
        },
        "19aaa3c1a8144108839aed07b6b2f714": {
          "model_module": "@jupyter-widgets/controls",
          "model_name": "DescriptionStyleModel",
          "state": {
            "_view_name": "StyleView",
            "_model_name": "DescriptionStyleModel",
            "description_width": "",
            "_view_module": "@jupyter-widgets/base",
            "_model_module_version": "1.5.0",
            "_view_count": null,
            "_view_module_version": "1.2.0",
            "_model_module": "@jupyter-widgets/controls"
          }
        },
        "6628f878cb3b46399d7070eb947c3b7b": {
          "model_module": "@jupyter-widgets/base",
          "model_name": "LayoutModel",
          "state": {
            "_view_name": "LayoutView",
            "grid_template_rows": null,
            "right": null,
            "justify_content": null,
            "_view_module": "@jupyter-widgets/base",
            "overflow": null,
            "_model_module_version": "1.2.0",
            "_view_count": null,
            "flex_flow": null,
            "width": null,
            "min_width": null,
            "border": null,
            "align_items": null,
            "bottom": null,
            "_model_module": "@jupyter-widgets/base",
            "top": null,
            "grid_column": null,
            "overflow_y": null,
            "overflow_x": null,
            "grid_auto_flow": null,
            "grid_area": null,
            "grid_template_columns": null,
            "flex": null,
            "_model_name": "LayoutModel",
            "justify_items": null,
            "grid_row": null,
            "max_height": null,
            "align_content": null,
            "visibility": null,
            "align_self": null,
            "height": null,
            "min_height": null,
            "padding": null,
            "grid_auto_rows": null,
            "grid_gap": null,
            "max_width": null,
            "order": null,
            "_view_module_version": "1.2.0",
            "grid_template_areas": null,
            "object_position": null,
            "object_fit": null,
            "grid_auto_columns": null,
            "margin": null,
            "display": null,
            "left": null
          }
        },
        "22ac88df67c44d35ad01a61e212492f7": {
          "model_module": "@jupyter-widgets/base",
          "model_name": "LayoutModel",
          "state": {
            "_view_name": "LayoutView",
            "grid_template_rows": null,
            "right": null,
            "justify_content": null,
            "_view_module": "@jupyter-widgets/base",
            "overflow": null,
            "_model_module_version": "1.2.0",
            "_view_count": null,
            "flex_flow": null,
            "width": null,
            "min_width": null,
            "border": null,
            "align_items": null,
            "bottom": null,
            "_model_module": "@jupyter-widgets/base",
            "top": null,
            "grid_column": null,
            "overflow_y": null,
            "overflow_x": null,
            "grid_auto_flow": null,
            "grid_area": null,
            "grid_template_columns": null,
            "flex": null,
            "_model_name": "LayoutModel",
            "justify_items": null,
            "grid_row": null,
            "max_height": null,
            "align_content": null,
            "visibility": null,
            "align_self": null,
            "height": null,
            "min_height": null,
            "padding": null,
            "grid_auto_rows": null,
            "grid_gap": null,
            "max_width": null,
            "order": null,
            "_view_module_version": "1.2.0",
            "grid_template_areas": null,
            "object_position": null,
            "object_fit": null,
            "grid_auto_columns": null,
            "margin": null,
            "display": null,
            "left": null
          }
        }
      }
    }
  },
  "cells": [
    {
      "cell_type": "markdown",
      "metadata": {
        "id": "view-in-github",
        "colab_type": "text"
      },
      "source": [
        "<a href=\"https://colab.research.google.com/github/wesleybeckner/C-HACK/blob/main/C2%20Statistics%20and%20Model%20Creation/SOLUTIONS/SOLUTION_Tech_Fun_C2_S1_Regression_and_Descriptive_Statistics.ipynb\" target=\"_parent\"><img src=\"https://colab.research.google.com/assets/colab-badge.svg\" alt=\"Open In Colab\"/></a>"
      ]
    },
    {
      "cell_type": "markdown",
      "metadata": {
        "id": "ZhMpsTQGPQIm"
      },
      "source": [
        "# Technology Fundamentals Course 2, Session 1: Regression and Descriptive Statistics\n",
        "\n",
        "**Instructor**: Wesley Beckner\n",
        "\n",
        "**Contact**: wesleybeckner@gmail.com\n",
        "\n",
        "**Teaching Assitants**: Varsha Bang, Harsha Vardhan\n",
        "\n",
        "**Contact**: vbang@uw.edu, harshav@uw.edu\n",
        "<br>\n",
        "\n",
        "\n",
        "## Schedule for this week\n",
        "\n",
        "<p align=\"center\">\n",
        "<img src=\"https://raw.githubusercontent.com/wesleybeckner/technology_fundamentals/main/assets/week2.png\" width=800></img>\n",
        "</p>\n",
        "---\n",
        "\n",
        "<br>\n",
        "\n",
        "In this session we will look at fitting data to a curve using **regression**. We will also look at using regression to make **predictions** for new data points by dividing our data into a training and a testing set. Finally we will examine how much error we make in our fit and then in our predictions by computing the mean squared error.\n",
        "\n",
        "<br>\n",
        "\n",
        "---\n",
        "\n"
      ]
    },
    {
      "cell_type": "markdown",
      "metadata": {
        "id": "jc0SbuFeQBwW"
      },
      "source": [
        "<a name='x.0'></a>\n",
        "\n",
        "## 1.0 Preparing Environment and Importing Data\n",
        "\n",
        "[back to top](#top)"
      ]
    },
    {
      "cell_type": "markdown",
      "metadata": {
        "id": "RGyB72UymbBW"
      },
      "source": [
        "<a name='x.0.1'></a>\n",
        "\n",
        "### 1.0.1 Import Packages\n",
        "\n",
        "[back to top](#top)"
      ]
    },
    {
      "cell_type": "code",
      "metadata": {
        "id": "XA8E1GTQQBwW"
      },
      "source": [
        "# Import pandas, pyplot, ipywidgets\n",
        "import pandas as pd  \n",
        "from matplotlib import pyplot as plt\n",
        "from ipywidgets import interact\n",
        "\n",
        "# Import Scikit-Learn library for the regression models\n",
        "import sklearn         \n",
        "from sklearn import linear_model\n",
        "from sklearn.model_selection import train_test_split\n",
        "from sklearn.metrics import mean_squared_error, r2_score"
      ],
      "execution_count": 1,
      "outputs": []
    },
    {
      "cell_type": "markdown",
      "metadata": {
        "id": "X_5nwoFWqKfH"
      },
      "source": [
        "### 1.0.2 Load Dataset\n",
        "\n",
        "[back to top](#top)\n",
        "\n",
        "For our discussion on regression and descriptive statistics today we will use a well known dataset of different wines and their quality ratings"
      ]
    },
    {
      "cell_type": "code",
      "metadata": {
        "colab": {
          "base_uri": "https://localhost:8080/"
        },
        "id": "_ZOC3aDmqNRr",
        "outputId": "ccb92d36-8831-4f71-f1b4-d9bafb4fd52c"
      },
      "source": [
        "df = pd.read_csv(\"https://raw.githubusercontent.com/wesleybeckner/\"\\\n",
        "                 \"ds_for_engineers/main/data/wine_quality/winequalityN.csv\")\n",
        "df.shape"
      ],
      "execution_count": 2,
      "outputs": [
        {
          "output_type": "execute_result",
          "data": {
            "text/plain": [
              "(6497, 13)"
            ]
          },
          "metadata": {
            "tags": []
          },
          "execution_count": 2
        }
      ]
    },
    {
      "cell_type": "code",
      "metadata": {
        "colab": {
          "base_uri": "https://localhost:8080/",
          "height": 353
        },
        "id": "EE7amHruJvEr",
        "outputId": "fe40d3ef-b451-402e-8354-eeb8edae04be"
      },
      "source": [
        "df.describe()"
      ],
      "execution_count": 3,
      "outputs": [
        {
          "output_type": "execute_result",
          "data": {
            "text/html": [
              "<div>\n",
              "<style scoped>\n",
              "    .dataframe tbody tr th:only-of-type {\n",
              "        vertical-align: middle;\n",
              "    }\n",
              "\n",
              "    .dataframe tbody tr th {\n",
              "        vertical-align: top;\n",
              "    }\n",
              "\n",
              "    .dataframe thead th {\n",
              "        text-align: right;\n",
              "    }\n",
              "</style>\n",
              "<table border=\"1\" class=\"dataframe\">\n",
              "  <thead>\n",
              "    <tr style=\"text-align: right;\">\n",
              "      <th></th>\n",
              "      <th>fixed acidity</th>\n",
              "      <th>volatile acidity</th>\n",
              "      <th>citric acid</th>\n",
              "      <th>residual sugar</th>\n",
              "      <th>chlorides</th>\n",
              "      <th>free sulfur dioxide</th>\n",
              "      <th>total sulfur dioxide</th>\n",
              "      <th>density</th>\n",
              "      <th>pH</th>\n",
              "      <th>sulphates</th>\n",
              "      <th>alcohol</th>\n",
              "      <th>quality</th>\n",
              "    </tr>\n",
              "  </thead>\n",
              "  <tbody>\n",
              "    <tr>\n",
              "      <th>count</th>\n",
              "      <td>6487.000000</td>\n",
              "      <td>6489.000000</td>\n",
              "      <td>6494.000000</td>\n",
              "      <td>6495.000000</td>\n",
              "      <td>6495.000000</td>\n",
              "      <td>6497.000000</td>\n",
              "      <td>6497.000000</td>\n",
              "      <td>6497.000000</td>\n",
              "      <td>6488.000000</td>\n",
              "      <td>6493.000000</td>\n",
              "      <td>6497.000000</td>\n",
              "      <td>6497.000000</td>\n",
              "    </tr>\n",
              "    <tr>\n",
              "      <th>mean</th>\n",
              "      <td>7.216579</td>\n",
              "      <td>0.339691</td>\n",
              "      <td>0.318722</td>\n",
              "      <td>5.444326</td>\n",
              "      <td>0.056042</td>\n",
              "      <td>30.525319</td>\n",
              "      <td>115.744574</td>\n",
              "      <td>0.994697</td>\n",
              "      <td>3.218395</td>\n",
              "      <td>0.531215</td>\n",
              "      <td>10.491801</td>\n",
              "      <td>5.818378</td>\n",
              "    </tr>\n",
              "    <tr>\n",
              "      <th>std</th>\n",
              "      <td>1.296750</td>\n",
              "      <td>0.164649</td>\n",
              "      <td>0.145265</td>\n",
              "      <td>4.758125</td>\n",
              "      <td>0.035036</td>\n",
              "      <td>17.749400</td>\n",
              "      <td>56.521855</td>\n",
              "      <td>0.002999</td>\n",
              "      <td>0.160748</td>\n",
              "      <td>0.148814</td>\n",
              "      <td>1.192712</td>\n",
              "      <td>0.873255</td>\n",
              "    </tr>\n",
              "    <tr>\n",
              "      <th>min</th>\n",
              "      <td>3.800000</td>\n",
              "      <td>0.080000</td>\n",
              "      <td>0.000000</td>\n",
              "      <td>0.600000</td>\n",
              "      <td>0.009000</td>\n",
              "      <td>1.000000</td>\n",
              "      <td>6.000000</td>\n",
              "      <td>0.987110</td>\n",
              "      <td>2.720000</td>\n",
              "      <td>0.220000</td>\n",
              "      <td>8.000000</td>\n",
              "      <td>3.000000</td>\n",
              "    </tr>\n",
              "    <tr>\n",
              "      <th>25%</th>\n",
              "      <td>6.400000</td>\n",
              "      <td>0.230000</td>\n",
              "      <td>0.250000</td>\n",
              "      <td>1.800000</td>\n",
              "      <td>0.038000</td>\n",
              "      <td>17.000000</td>\n",
              "      <td>77.000000</td>\n",
              "      <td>0.992340</td>\n",
              "      <td>3.110000</td>\n",
              "      <td>0.430000</td>\n",
              "      <td>9.500000</td>\n",
              "      <td>5.000000</td>\n",
              "    </tr>\n",
              "    <tr>\n",
              "      <th>50%</th>\n",
              "      <td>7.000000</td>\n",
              "      <td>0.290000</td>\n",
              "      <td>0.310000</td>\n",
              "      <td>3.000000</td>\n",
              "      <td>0.047000</td>\n",
              "      <td>29.000000</td>\n",
              "      <td>118.000000</td>\n",
              "      <td>0.994890</td>\n",
              "      <td>3.210000</td>\n",
              "      <td>0.510000</td>\n",
              "      <td>10.300000</td>\n",
              "      <td>6.000000</td>\n",
              "    </tr>\n",
              "    <tr>\n",
              "      <th>75%</th>\n",
              "      <td>7.700000</td>\n",
              "      <td>0.400000</td>\n",
              "      <td>0.390000</td>\n",
              "      <td>8.100000</td>\n",
              "      <td>0.065000</td>\n",
              "      <td>41.000000</td>\n",
              "      <td>156.000000</td>\n",
              "      <td>0.996990</td>\n",
              "      <td>3.320000</td>\n",
              "      <td>0.600000</td>\n",
              "      <td>11.300000</td>\n",
              "      <td>6.000000</td>\n",
              "    </tr>\n",
              "    <tr>\n",
              "      <th>max</th>\n",
              "      <td>15.900000</td>\n",
              "      <td>1.580000</td>\n",
              "      <td>1.660000</td>\n",
              "      <td>65.800000</td>\n",
              "      <td>0.611000</td>\n",
              "      <td>289.000000</td>\n",
              "      <td>440.000000</td>\n",
              "      <td>1.038980</td>\n",
              "      <td>4.010000</td>\n",
              "      <td>2.000000</td>\n",
              "      <td>14.900000</td>\n",
              "      <td>9.000000</td>\n",
              "    </tr>\n",
              "  </tbody>\n",
              "</table>\n",
              "</div>"
            ],
            "text/plain": [
              "       fixed acidity  volatile acidity  ...      alcohol      quality\n",
              "count    6487.000000       6489.000000  ...  6497.000000  6497.000000\n",
              "mean        7.216579          0.339691  ...    10.491801     5.818378\n",
              "std         1.296750          0.164649  ...     1.192712     0.873255\n",
              "min         3.800000          0.080000  ...     8.000000     3.000000\n",
              "25%         6.400000          0.230000  ...     9.500000     5.000000\n",
              "50%         7.000000          0.290000  ...    10.300000     6.000000\n",
              "75%         7.700000          0.400000  ...    11.300000     6.000000\n",
              "max        15.900000          1.580000  ...    14.900000     9.000000\n",
              "\n",
              "[8 rows x 12 columns]"
            ]
          },
          "metadata": {
            "tags": []
          },
          "execution_count": 3
        }
      ]
    },
    {
      "cell_type": "markdown",
      "metadata": {
        "id": "cm6isl1eQBwX"
      },
      "source": [
        "## 1.1 What is regression? "
      ]
    },
    {
      "cell_type": "markdown",
      "metadata": {
        "id": "crBj3b4FHemQ"
      },
      "source": [
        "It is the process of finding a relationship between **_dependent_** and **_independent_** variables to find trends in data. This abstract definition means that you have one variable (the dependent variable) which depends on one or more variables (the independent variables). One of the reasons for which we want to regress data is to understand whether there is a trend between two variables. \n",
        "\n",
        "**Housing Prices Example**\n",
        "\n",
        "We can imagine this scenario with housing prices. Envision a **_mixed_** dataset of **_continuous_** and **_discrete_** independent variables. Some features could be continuous, floating point values like location ranking and housing condition. Others could be descrete like the number of rooms or bathrooms. We could take these features and use them to predict a house value. This would be a **_regression_** model.\n",
        "\n",
        "<p align=center>\n",
        "<img src=\"https://raw.githubusercontent.com/wesleybeckner/technology_explorers/main/assets/machine_learning/ML3.png\" width=1000px></img>\n",
        "\n",
        "\n",
        "\n",
        "\n"
      ]
    },
    {
      "cell_type": "markdown",
      "metadata": {
        "id": "qppNLSFvQBwX"
      },
      "source": [
        "## 1.2  Linear regression fitting with scikit-learn"
      ]
    },
    {
      "cell_type": "markdown",
      "metadata": {
        "id": "eAcHDd1vQBwY"
      },
      "source": [
        "#### Exercise 1: rudimentary EDA\n",
        "What does the data look like? Remember how to visualize data in a pandas dataframe (Sessions 3 and 4) \n",
        "\n",
        "<ol>\n",
        "<li> for every column calculate the\n",
        "\n",
        "  * skew: `df.skew()`\n",
        "  * kurtosis: `df.kurtosis()`\n",
        "  * pearsons correlation with the dependent variable: `df.corr()`\n",
        "  * number of missing entries `df.isnull()`\n",
        "\n",
        "and organize this into a new dataframe\n",
        "\n",
        "_note:_ pearsons is just one type of correlation, another available to us **_spearman_** which differs from pearsons in that it depends on ranked values rather than their direct quantities, you can read more [here](https://support.minitab.com/en-us/minitab-express/1/help-and-how-to/modeling-statistics/regression/supporting-topics/basics/a-comparison-of-the-pearson-and-spearman-correlation-methods/)"
      ]
    },
    {
      "cell_type": "code",
      "metadata": {
        "colab": {
          "base_uri": "https://localhost:8080/"
        },
        "id": "R6rNSiulxGhe",
        "outputId": "69aec24b-5bce-46be-e965-4c6a959aebcd"
      },
      "source": [
        "df.isnull().sum()"
      ],
      "execution_count": 5,
      "outputs": [
        {
          "output_type": "execute_result",
          "data": {
            "text/plain": [
              "type                     0\n",
              "fixed acidity           10\n",
              "volatile acidity         8\n",
              "citric acid              3\n",
              "residual sugar           2\n",
              "chlorides                2\n",
              "free sulfur dioxide      0\n",
              "total sulfur dioxide     0\n",
              "density                  0\n",
              "pH                       9\n",
              "sulphates                4\n",
              "alcohol                  0\n",
              "quality                  0\n",
              "dtype: int64"
            ]
          },
          "metadata": {
            "tags": []
          },
          "execution_count": 5
        }
      ]
    },
    {
      "cell_type": "code",
      "metadata": {
        "id": "0-TMjSfuQBwY",
        "colab": {
          "base_uri": "https://localhost:8080/",
          "height": 455
        },
        "outputId": "3f94e126-bc47-4e8b-e310-a621fcbbb268"
      },
      "source": [
        "# Cell for Exercise 1\n",
        "\n",
        "# part A \n",
        "# using df.<method> define the following four variables with the results from\n",
        "# skew(), kurtosis(), corr() (and selecting for quality), and isnull()\n",
        "# for isnull() you'll notice the return is a dataframe of booleans. we would\n",
        "# like to simply know the number of null values for each column. change the\n",
        "# return of isnull() using the sum() method\n",
        "\n",
        "skew = df.skew()\n",
        "kurt = df.kurtosis()\n",
        "pear = df.corr()['quality']\n",
        "null = df.isnull().sum()\n",
        "\n",
        "# part B\n",
        "# on line 13, put these results in a list using square brackets and call \n",
        "# pandas.DataFrame on the list to make your new DataFrame! store it under the\n",
        "# variable name dff\n",
        "\n",
        "dff = pd.DataFrame([skew, kurt, pear, null])\n",
        "\n",
        "# part C\n",
        "# take the transpose of this DataFrame using dff.T. reassign dff to this copy\n",
        "\n",
        "dff = dff.T\n",
        "\n",
        "# part D\n",
        "# set the column names to 'skew', 'kurtosis', 'pearsons _quality', and \n",
        "# 'null count' using dff.columns\n",
        "\n",
        "dff.columns = ['skew', 'kurtosis', 'pearsons _quality', 'null count']\n",
        "\n",
        "# Now return dff to the output to view your hand work\n",
        "dff"
      ],
      "execution_count": 10,
      "outputs": [
        {
          "output_type": "execute_result",
          "data": {
            "text/html": [
              "<div>\n",
              "<style scoped>\n",
              "    .dataframe tbody tr th:only-of-type {\n",
              "        vertical-align: middle;\n",
              "    }\n",
              "\n",
              "    .dataframe tbody tr th {\n",
              "        vertical-align: top;\n",
              "    }\n",
              "\n",
              "    .dataframe thead th {\n",
              "        text-align: right;\n",
              "    }\n",
              "</style>\n",
              "<table border=\"1\" class=\"dataframe\">\n",
              "  <thead>\n",
              "    <tr style=\"text-align: right;\">\n",
              "      <th></th>\n",
              "      <th>skew</th>\n",
              "      <th>kurtosis</th>\n",
              "      <th>pearsons _quality</th>\n",
              "      <th>null count</th>\n",
              "    </tr>\n",
              "  </thead>\n",
              "  <tbody>\n",
              "    <tr>\n",
              "      <th>fixed acidity</th>\n",
              "      <td>1.722805</td>\n",
              "      <td>5.057727</td>\n",
              "      <td>-0.077031</td>\n",
              "      <td>10.0</td>\n",
              "    </tr>\n",
              "    <tr>\n",
              "      <th>volatile acidity</th>\n",
              "      <td>1.495512</td>\n",
              "      <td>2.827081</td>\n",
              "      <td>-0.265953</td>\n",
              "      <td>8.0</td>\n",
              "    </tr>\n",
              "    <tr>\n",
              "      <th>citric acid</th>\n",
              "      <td>0.473032</td>\n",
              "      <td>2.401582</td>\n",
              "      <td>0.085706</td>\n",
              "      <td>3.0</td>\n",
              "    </tr>\n",
              "    <tr>\n",
              "      <th>residual sugar</th>\n",
              "      <td>1.435000</td>\n",
              "      <td>4.358134</td>\n",
              "      <td>-0.036825</td>\n",
              "      <td>2.0</td>\n",
              "    </tr>\n",
              "    <tr>\n",
              "      <th>chlorides</th>\n",
              "      <td>5.399849</td>\n",
              "      <td>50.894874</td>\n",
              "      <td>-0.200886</td>\n",
              "      <td>2.0</td>\n",
              "    </tr>\n",
              "    <tr>\n",
              "      <th>free sulfur dioxide</th>\n",
              "      <td>1.220066</td>\n",
              "      <td>7.906238</td>\n",
              "      <td>0.055463</td>\n",
              "      <td>0.0</td>\n",
              "    </tr>\n",
              "    <tr>\n",
              "      <th>total sulfur dioxide</th>\n",
              "      <td>-0.001177</td>\n",
              "      <td>-0.371664</td>\n",
              "      <td>-0.041385</td>\n",
              "      <td>0.0</td>\n",
              "    </tr>\n",
              "    <tr>\n",
              "      <th>density</th>\n",
              "      <td>0.503602</td>\n",
              "      <td>6.606067</td>\n",
              "      <td>-0.305858</td>\n",
              "      <td>0.0</td>\n",
              "    </tr>\n",
              "    <tr>\n",
              "      <th>pH</th>\n",
              "      <td>0.386966</td>\n",
              "      <td>0.370068</td>\n",
              "      <td>0.019366</td>\n",
              "      <td>9.0</td>\n",
              "    </tr>\n",
              "    <tr>\n",
              "      <th>sulphates</th>\n",
              "      <td>1.798467</td>\n",
              "      <td>8.659892</td>\n",
              "      <td>0.038729</td>\n",
              "      <td>4.0</td>\n",
              "    </tr>\n",
              "    <tr>\n",
              "      <th>alcohol</th>\n",
              "      <td>0.565718</td>\n",
              "      <td>-0.531687</td>\n",
              "      <td>0.444319</td>\n",
              "      <td>0.0</td>\n",
              "    </tr>\n",
              "    <tr>\n",
              "      <th>quality</th>\n",
              "      <td>0.189623</td>\n",
              "      <td>0.232322</td>\n",
              "      <td>1.000000</td>\n",
              "      <td>0.0</td>\n",
              "    </tr>\n",
              "    <tr>\n",
              "      <th>type</th>\n",
              "      <td>NaN</td>\n",
              "      <td>NaN</td>\n",
              "      <td>NaN</td>\n",
              "      <td>0.0</td>\n",
              "    </tr>\n",
              "  </tbody>\n",
              "</table>\n",
              "</div>"
            ],
            "text/plain": [
              "                          skew   kurtosis  pearsons _quality  null count\n",
              "fixed acidity         1.722805   5.057727          -0.077031        10.0\n",
              "volatile acidity      1.495512   2.827081          -0.265953         8.0\n",
              "citric acid           0.473032   2.401582           0.085706         3.0\n",
              "residual sugar        1.435000   4.358134          -0.036825         2.0\n",
              "chlorides             5.399849  50.894874          -0.200886         2.0\n",
              "free sulfur dioxide   1.220066   7.906238           0.055463         0.0\n",
              "total sulfur dioxide -0.001177  -0.371664          -0.041385         0.0\n",
              "density               0.503602   6.606067          -0.305858         0.0\n",
              "pH                    0.386966   0.370068           0.019366         9.0\n",
              "sulphates             1.798467   8.659892           0.038729         4.0\n",
              "alcohol               0.565718  -0.531687           0.444319         0.0\n",
              "quality               0.189623   0.232322           1.000000         0.0\n",
              "type                       NaN        NaN                NaN         0.0"
            ]
          },
          "metadata": {
            "tags": []
          },
          "execution_count": 10
        }
      ]
    },
    {
      "cell_type": "markdown",
      "metadata": {
        "id": "WyXKiL0AEhLG"
      },
      "source": [
        "I have gone ahead and repeated this exercise with the red vs white wine types:"
      ]
    },
    {
      "cell_type": "code",
      "metadata": {
        "id": "7b-f89XCFFB4"
      },
      "source": [
        "red = df.loc[df['type'] == 'red']\n",
        "wht = df.loc[df['type'] == 'white']\n",
        "\n",
        "def get_summary(df):\n",
        "  skew = df.skew()\n",
        "  kurt = df.kurtosis()\n",
        "  pear = df.corr()['quality']\n",
        "  null = df.isnull().sum()\n",
        "  med = df.median()\n",
        "  men = df.mean()\n",
        "\n",
        "  dff = pd.DataFrame([skew, kurt, pear, null, med, men])\n",
        "  dff = dff.T\n",
        "  dff.columns = ['skew', 'kurtosis', 'pearsons _quality', 'null count', 'median',\n",
        "                'mean']\n",
        "  return dff\n",
        "\n",
        "dffr = get_summary(red)\n",
        "dffw = get_summary(wht)\n",
        "\n",
        "desc = pd.concat([dffr, dffw], keys=['red', 'white'])"
      ],
      "execution_count": 15,
      "outputs": []
    },
    {
      "cell_type": "code",
      "metadata": {
        "colab": {
          "base_uri": "https://localhost:8080/",
          "height": 860
        },
        "id": "EpBmNL_FEp5y",
        "outputId": "1d20af41-641f-4740-9688-bd06f9351c61"
      },
      "source": [
        "desc"
      ],
      "execution_count": 16,
      "outputs": [
        {
          "output_type": "execute_result",
          "data": {
            "text/html": [
              "<div>\n",
              "<style scoped>\n",
              "    .dataframe tbody tr th:only-of-type {\n",
              "        vertical-align: middle;\n",
              "    }\n",
              "\n",
              "    .dataframe tbody tr th {\n",
              "        vertical-align: top;\n",
              "    }\n",
              "\n",
              "    .dataframe thead th {\n",
              "        text-align: right;\n",
              "    }\n",
              "</style>\n",
              "<table border=\"1\" class=\"dataframe\">\n",
              "  <thead>\n",
              "    <tr style=\"text-align: right;\">\n",
              "      <th></th>\n",
              "      <th></th>\n",
              "      <th>skew</th>\n",
              "      <th>kurtosis</th>\n",
              "      <th>pearsons _quality</th>\n",
              "      <th>null count</th>\n",
              "      <th>median</th>\n",
              "      <th>mean</th>\n",
              "    </tr>\n",
              "  </thead>\n",
              "  <tbody>\n",
              "    <tr>\n",
              "      <th rowspan=\"13\" valign=\"top\">red</th>\n",
              "      <th>fixed acidity</th>\n",
              "      <td>0.982192</td>\n",
              "      <td>1.132624</td>\n",
              "      <td>0.123834</td>\n",
              "      <td>2.0</td>\n",
              "      <td>7.90000</td>\n",
              "      <td>8.322104</td>\n",
              "    </tr>\n",
              "    <tr>\n",
              "      <th>volatile acidity</th>\n",
              "      <td>0.672862</td>\n",
              "      <td>1.226846</td>\n",
              "      <td>-0.390858</td>\n",
              "      <td>1.0</td>\n",
              "      <td>0.52000</td>\n",
              "      <td>0.527738</td>\n",
              "    </tr>\n",
              "    <tr>\n",
              "      <th>citric acid</th>\n",
              "      <td>0.317891</td>\n",
              "      <td>-0.788476</td>\n",
              "      <td>0.226917</td>\n",
              "      <td>1.0</td>\n",
              "      <td>0.26000</td>\n",
              "      <td>0.271145</td>\n",
              "    </tr>\n",
              "    <tr>\n",
              "      <th>residual sugar</th>\n",
              "      <td>4.540655</td>\n",
              "      <td>28.617595</td>\n",
              "      <td>0.013732</td>\n",
              "      <td>0.0</td>\n",
              "      <td>2.20000</td>\n",
              "      <td>2.538806</td>\n",
              "    </tr>\n",
              "    <tr>\n",
              "      <th>chlorides</th>\n",
              "      <td>5.680347</td>\n",
              "      <td>41.715787</td>\n",
              "      <td>-0.128907</td>\n",
              "      <td>0.0</td>\n",
              "      <td>0.07900</td>\n",
              "      <td>0.087467</td>\n",
              "    </tr>\n",
              "    <tr>\n",
              "      <th>free sulfur dioxide</th>\n",
              "      <td>1.250567</td>\n",
              "      <td>2.023562</td>\n",
              "      <td>-0.050656</td>\n",
              "      <td>0.0</td>\n",
              "      <td>14.00000</td>\n",
              "      <td>15.874922</td>\n",
              "    </tr>\n",
              "    <tr>\n",
              "      <th>total sulfur dioxide</th>\n",
              "      <td>1.515531</td>\n",
              "      <td>3.809824</td>\n",
              "      <td>-0.185100</td>\n",
              "      <td>0.0</td>\n",
              "      <td>38.00000</td>\n",
              "      <td>46.467792</td>\n",
              "    </tr>\n",
              "    <tr>\n",
              "      <th>density</th>\n",
              "      <td>0.071288</td>\n",
              "      <td>0.934079</td>\n",
              "      <td>-0.174919</td>\n",
              "      <td>0.0</td>\n",
              "      <td>0.99675</td>\n",
              "      <td>0.996747</td>\n",
              "    </tr>\n",
              "    <tr>\n",
              "      <th>pH</th>\n",
              "      <td>0.194803</td>\n",
              "      <td>0.814690</td>\n",
              "      <td>-0.057094</td>\n",
              "      <td>2.0</td>\n",
              "      <td>3.31000</td>\n",
              "      <td>3.310864</td>\n",
              "    </tr>\n",
              "    <tr>\n",
              "      <th>sulphates</th>\n",
              "      <td>2.429115</td>\n",
              "      <td>11.712632</td>\n",
              "      <td>0.251685</td>\n",
              "      <td>2.0</td>\n",
              "      <td>0.62000</td>\n",
              "      <td>0.658078</td>\n",
              "    </tr>\n",
              "    <tr>\n",
              "      <th>alcohol</th>\n",
              "      <td>0.860829</td>\n",
              "      <td>0.200029</td>\n",
              "      <td>0.476166</td>\n",
              "      <td>0.0</td>\n",
              "      <td>10.20000</td>\n",
              "      <td>10.422983</td>\n",
              "    </tr>\n",
              "    <tr>\n",
              "      <th>quality</th>\n",
              "      <td>0.217802</td>\n",
              "      <td>0.296708</td>\n",
              "      <td>1.000000</td>\n",
              "      <td>0.0</td>\n",
              "      <td>6.00000</td>\n",
              "      <td>5.636023</td>\n",
              "    </tr>\n",
              "    <tr>\n",
              "      <th>type</th>\n",
              "      <td>NaN</td>\n",
              "      <td>NaN</td>\n",
              "      <td>NaN</td>\n",
              "      <td>0.0</td>\n",
              "      <td>NaN</td>\n",
              "      <td>NaN</td>\n",
              "    </tr>\n",
              "    <tr>\n",
              "      <th rowspan=\"13\" valign=\"top\">white</th>\n",
              "      <th>fixed acidity</th>\n",
              "      <td>0.647981</td>\n",
              "      <td>2.176560</td>\n",
              "      <td>-0.114032</td>\n",
              "      <td>8.0</td>\n",
              "      <td>6.80000</td>\n",
              "      <td>6.855532</td>\n",
              "    </tr>\n",
              "    <tr>\n",
              "      <th>volatile acidity</th>\n",
              "      <td>1.578595</td>\n",
              "      <td>5.095526</td>\n",
              "      <td>-0.194976</td>\n",
              "      <td>7.0</td>\n",
              "      <td>0.26000</td>\n",
              "      <td>0.278252</td>\n",
              "    </tr>\n",
              "    <tr>\n",
              "      <th>citric acid</th>\n",
              "      <td>1.284217</td>\n",
              "      <td>6.182036</td>\n",
              "      <td>-0.009194</td>\n",
              "      <td>2.0</td>\n",
              "      <td>0.32000</td>\n",
              "      <td>0.334250</td>\n",
              "    </tr>\n",
              "    <tr>\n",
              "      <th>residual sugar</th>\n",
              "      <td>1.076601</td>\n",
              "      <td>3.469536</td>\n",
              "      <td>-0.097373</td>\n",
              "      <td>2.0</td>\n",
              "      <td>5.20000</td>\n",
              "      <td>6.393250</td>\n",
              "    </tr>\n",
              "    <tr>\n",
              "      <th>chlorides</th>\n",
              "      <td>5.023412</td>\n",
              "      <td>37.560847</td>\n",
              "      <td>-0.210181</td>\n",
              "      <td>2.0</td>\n",
              "      <td>0.04300</td>\n",
              "      <td>0.045778</td>\n",
              "    </tr>\n",
              "    <tr>\n",
              "      <th>free sulfur dioxide</th>\n",
              "      <td>1.406745</td>\n",
              "      <td>11.466342</td>\n",
              "      <td>0.008158</td>\n",
              "      <td>0.0</td>\n",
              "      <td>34.00000</td>\n",
              "      <td>35.308085</td>\n",
              "    </tr>\n",
              "    <tr>\n",
              "      <th>total sulfur dioxide</th>\n",
              "      <td>0.390710</td>\n",
              "      <td>0.571853</td>\n",
              "      <td>-0.174737</td>\n",
              "      <td>0.0</td>\n",
              "      <td>134.00000</td>\n",
              "      <td>138.360657</td>\n",
              "    </tr>\n",
              "    <tr>\n",
              "      <th>density</th>\n",
              "      <td>0.977773</td>\n",
              "      <td>9.793807</td>\n",
              "      <td>-0.307123</td>\n",
              "      <td>0.0</td>\n",
              "      <td>0.99374</td>\n",
              "      <td>0.994027</td>\n",
              "    </tr>\n",
              "    <tr>\n",
              "      <th>pH</th>\n",
              "      <td>0.458402</td>\n",
              "      <td>0.532552</td>\n",
              "      <td>0.098858</td>\n",
              "      <td>7.0</td>\n",
              "      <td>3.18000</td>\n",
              "      <td>3.188203</td>\n",
              "    </tr>\n",
              "    <tr>\n",
              "      <th>sulphates</th>\n",
              "      <td>0.977361</td>\n",
              "      <td>1.589847</td>\n",
              "      <td>0.053690</td>\n",
              "      <td>2.0</td>\n",
              "      <td>0.47000</td>\n",
              "      <td>0.489835</td>\n",
              "    </tr>\n",
              "    <tr>\n",
              "      <th>alcohol</th>\n",
              "      <td>0.487342</td>\n",
              "      <td>-0.698425</td>\n",
              "      <td>0.435575</td>\n",
              "      <td>0.0</td>\n",
              "      <td>10.40000</td>\n",
              "      <td>10.514267</td>\n",
              "    </tr>\n",
              "    <tr>\n",
              "      <th>quality</th>\n",
              "      <td>0.155796</td>\n",
              "      <td>0.216526</td>\n",
              "      <td>1.000000</td>\n",
              "      <td>0.0</td>\n",
              "      <td>6.00000</td>\n",
              "      <td>5.877909</td>\n",
              "    </tr>\n",
              "    <tr>\n",
              "      <th>type</th>\n",
              "      <td>NaN</td>\n",
              "      <td>NaN</td>\n",
              "      <td>NaN</td>\n",
              "      <td>0.0</td>\n",
              "      <td>NaN</td>\n",
              "      <td>NaN</td>\n",
              "    </tr>\n",
              "  </tbody>\n",
              "</table>\n",
              "</div>"
            ],
            "text/plain": [
              "                                skew   kurtosis  ...     median        mean\n",
              "red   fixed acidity         0.982192   1.132624  ...    7.90000    8.322104\n",
              "      volatile acidity      0.672862   1.226846  ...    0.52000    0.527738\n",
              "      citric acid           0.317891  -0.788476  ...    0.26000    0.271145\n",
              "      residual sugar        4.540655  28.617595  ...    2.20000    2.538806\n",
              "      chlorides             5.680347  41.715787  ...    0.07900    0.087467\n",
              "      free sulfur dioxide   1.250567   2.023562  ...   14.00000   15.874922\n",
              "      total sulfur dioxide  1.515531   3.809824  ...   38.00000   46.467792\n",
              "      density               0.071288   0.934079  ...    0.99675    0.996747\n",
              "      pH                    0.194803   0.814690  ...    3.31000    3.310864\n",
              "      sulphates             2.429115  11.712632  ...    0.62000    0.658078\n",
              "      alcohol               0.860829   0.200029  ...   10.20000   10.422983\n",
              "      quality               0.217802   0.296708  ...    6.00000    5.636023\n",
              "      type                       NaN        NaN  ...        NaN         NaN\n",
              "white fixed acidity         0.647981   2.176560  ...    6.80000    6.855532\n",
              "      volatile acidity      1.578595   5.095526  ...    0.26000    0.278252\n",
              "      citric acid           1.284217   6.182036  ...    0.32000    0.334250\n",
              "      residual sugar        1.076601   3.469536  ...    5.20000    6.393250\n",
              "      chlorides             5.023412  37.560847  ...    0.04300    0.045778\n",
              "      free sulfur dioxide   1.406745  11.466342  ...   34.00000   35.308085\n",
              "      total sulfur dioxide  0.390710   0.571853  ...  134.00000  138.360657\n",
              "      density               0.977773   9.793807  ...    0.99374    0.994027\n",
              "      pH                    0.458402   0.532552  ...    3.18000    3.188203\n",
              "      sulphates             0.977361   1.589847  ...    0.47000    0.489835\n",
              "      alcohol               0.487342  -0.698425  ...   10.40000   10.514267\n",
              "      quality               0.155796   0.216526  ...    6.00000    5.877909\n",
              "      type                       NaN        NaN  ...        NaN         NaN\n",
              "\n",
              "[26 rows x 6 columns]"
            ]
          },
          "metadata": {
            "tags": []
          },
          "execution_count": 16
        }
      ]
    },
    {
      "cell_type": "code",
      "metadata": {
        "id": "K9DDzhpjF-xu"
      },
      "source": [
        "def my_fig(metric=desc.columns):\n",
        "  fig, ax = plt.subplots(1, 1, figsize=(10,10))\n",
        "  pd.DataFrame(desc[metric]).unstack()[metric].T.plot(kind='barh', ax=ax)"
      ],
      "execution_count": 17,
      "outputs": []
    },
    {
      "cell_type": "code",
      "metadata": {
        "colab": {
          "base_uri": "https://localhost:8080/",
          "height": 641,
          "referenced_widgets": [
            "03023728bd804da49819c3c04509c321",
            "fb38927e69eb4acbadfe248bf9b54b67",
            "e2ef516a9a0f49d688915ad9c572a5a5",
            "a769babbed10443798cac6d4db822d71",
            "19aaa3c1a8144108839aed07b6b2f714",
            "6628f878cb3b46399d7070eb947c3b7b",
            "22ac88df67c44d35ad01a61e212492f7"
          ]
        },
        "id": "-POOBsVeutdM",
        "outputId": "eb75521c-7d43-4305-c228-7f805fc54d7c"
      },
      "source": [
        "interact(my_fig)"
      ],
      "execution_count": 18,
      "outputs": [
        {
          "output_type": "display_data",
          "data": {
            "application/vnd.jupyter.widget-view+json": {
              "model_id": "03023728bd804da49819c3c04509c321",
              "version_minor": 0,
              "version_major": 2
            },
            "text/plain": [
              "interactive(children=(Dropdown(description='metric', options=('skew', 'kurtosis', 'pearsons _quality', 'null c…"
            ]
          },
          "metadata": {
            "tags": []
          }
        },
        {
          "output_type": "execute_result",
          "data": {
            "text/plain": [
              "<function __main__.my_fig>"
            ]
          },
          "metadata": {
            "tags": []
          },
          "execution_count": 18
        }
      ]
    },
    {
      "cell_type": "markdown",
      "metadata": {
        "id": "IdvF2jjyGRlh"
      },
      "source": [
        "#### Question 1: Discussion Around EDA Plot\n",
        "\n",
        "What do we think of this plot?\n",
        "\n",
        "> `metric = mean`, the cholrides values <br>\n",
        "`metric = kurtosis`, residual sugar <br>\n",
        "`metric = pearsons _quality`, _magnitudes_ and _directions_ <br>\n",
        "How to improve the plot, what other plots would we like to see?"
      ]
    },
    {
      "cell_type": "code",
      "metadata": {
        "colab": {
          "base_uri": "https://localhost:8080/"
        },
        "id": "1dA1h7CAwHvv",
        "outputId": "25b3cce4-d93c-48a0-cd08-edf644823ec9"
      },
      "source": [
        "df['chlorides'].describe()"
      ],
      "execution_count": 31,
      "outputs": [
        {
          "output_type": "execute_result",
          "data": {
            "text/plain": [
              "count    6495.000000\n",
              "mean        0.056042\n",
              "std         0.035036\n",
              "min         0.009000\n",
              "25%         0.038000\n",
              "50%         0.047000\n",
              "75%         0.065000\n",
              "max         0.611000\n",
              "Name: chlorides, dtype: float64"
            ]
          },
          "metadata": {
            "tags": []
          },
          "execution_count": 31
        }
      ]
    },
    {
      "cell_type": "code",
      "metadata": {
        "colab": {
          "base_uri": "https://localhost:8080/",
          "height": 609
        },
        "id": "BlIRssBtFq_9",
        "outputId": "d9d1f79d-3824-4654-9397-734f594d5a86"
      },
      "source": [
        "fig, ax = plt.subplots(1,1,figsize=(10,10))\n",
        "df['chlorides'].plot(kind='kde',ax=ax)\n",
        "ax.set_xlim(0,.61)"
      ],
      "execution_count": null,
      "outputs": [
        {
          "output_type": "execute_result",
          "data": {
            "text/plain": [
              "(0.0, 0.61)"
            ]
          },
          "metadata": {
            "tags": []
          },
          "execution_count": 11
        },
        {
          "output_type": "display_data",
          "data": {
            "image/png": "[encoded data removed]",
            "text/plain": [
              "<Figure size 720x720 with 1 Axes>"
            ]
          },
          "metadata": {
            "tags": [],
            "needs_background": "light"
          }
        }
      ]
    },
    {
      "cell_type": "code",
      "metadata": {
        "colab": {
          "base_uri": "https://localhost:8080/"
        },
        "id": "_rEEPUxpF6go",
        "outputId": "70b8a2e2-70c0-47ec-da0d-33349e815d63"
      },
      "source": [
        "df['chlorides'].sort_values(ascending=False)[:50]"
      ],
      "execution_count": 32,
      "outputs": [
        {
          "output_type": "execute_result",
          "data": {
            "text/plain": [
              "5156    0.611\n",
              "5049    0.610\n",
              "5004    0.467\n",
              "4979    0.464\n",
              "5590    0.422\n",
              "5652    0.415\n",
              "6268    0.415\n",
              "6270    0.415\n",
              "6217    0.414\n",
              "5949    0.414\n",
              "5349    0.413\n",
              "6158    0.403\n",
              "4981    0.401\n",
              "5628    0.387\n",
              "6063    0.369\n",
              "4915    0.368\n",
              "5067    0.360\n",
              "5179    0.358\n",
              "484     0.346\n",
              "5189    0.343\n",
              "4917    0.341\n",
              "5124    0.337\n",
              "4940    0.332\n",
              "1217    0.301\n",
              "687     0.290\n",
              "4473    0.271\n",
              "5079    0.270\n",
              "6272    0.267\n",
              "5138    0.263\n",
              "1865    0.255\n",
              "5466    0.250\n",
              "1034    0.244\n",
              "5674    0.243\n",
              "5675    0.241\n",
              "683     0.240\n",
              "1638    0.239\n",
              "5045    0.236\n",
              "6456    0.235\n",
              "6468    0.230\n",
              "5465    0.226\n",
              "5464    0.226\n",
              "5564    0.222\n",
              "2186    0.217\n",
              "5996    0.216\n",
              "6332    0.214\n",
              "6333    0.214\n",
              "5206    0.214\n",
              "5205    0.213\n",
              "4497    0.212\n",
              "1835    0.211\n",
              "Name: chlorides, dtype: float64"
            ]
          },
          "metadata": {
            "tags": []
          },
          "execution_count": 32
        }
      ]
    },
    {
      "cell_type": "markdown",
      "metadata": {
        "id": "9vavdktFQBwZ"
      },
      "source": [
        "### 1.2.2 Visualizing the data set - motivating regression analysis"
      ]
    },
    {
      "cell_type": "markdown",
      "metadata": {
        "id": "wy3XoXStQBwZ"
      },
      "source": [
        "We can create a scatter plot of fixed acidity vs density of red wine in the dataset using `df.plot()` and see that there appears to be a general trend between the two features:"
      ]
    },
    {
      "cell_type": "code",
      "metadata": {
        "colab": {
          "base_uri": "https://localhost:8080/",
          "height": 351
        },
        "id": "DTkwPrlLA2aX",
        "outputId": "185231a9-6201-49ac-f778-87a068d28f86"
      },
      "source": [
        "fig, ax = plt.subplots(1, 1, figsize=(5,5))\n",
        "df.loc[df['type'] == 'red'].plot(x='fixed acidity', y='density', ax=ax, \n",
        "                                 ls='', marker='.')"
      ],
      "execution_count": 33,
      "outputs": [
        {
          "output_type": "execute_result",
          "data": {
            "text/plain": [
              "<matplotlib.axes._subplots.AxesSubplot at 0x7f4276f60410>"
            ]
          },
          "metadata": {
            "tags": []
          },
          "execution_count": 33
        },
        {
          "output_type": "display_data",
          "data": {
            "image/png": "[encoded data removed]",
            "text/plain": [
              "<Figure size 360x360 with 1 Axes>"
            ]
          },
          "metadata": {
            "tags": [],
            "needs_background": "light"
          }
        }
      ]
    },
    {
      "cell_type": "markdown",
      "metadata": {
        "id": "Gp_Ssxc1QBwZ"
      },
      "source": [
        "### 1.2.3 Estimating the regression coefficients\n",
        "\n",
        "It looks like density increases with fixed acidity following a line, maybe something like\n",
        "\n",
        "$$y(x)= m \\cdot x + b  \\;\\;\\;\\;\\;\\;\\;\\;\\sf{eq. 1}$$ \n",
        "\n",
        "with $y=\\sf density$, $x=\\sf fixed acidity$, and $m$ the slope and $b$ the intercept. \n",
        "\n",
        "To solve the problem, we need to find the values of $b$ and $m$ in equation 1 to best fit the data. This is called **linear regression**.\n",
        "\n",
        "In linear regression our goal is to minimize the error between computed values of positions $y^{\\sf calc}(x_i)\\equiv y^{\\sf calc}_i$ and known values $y^{\\sf exact}(x_i)\\equiv y^{\\sf exact}_i$, i.e. find $b$ and $m$ which lead to lowest value of\n",
        "\n",
        "$$\\epsilon (m,b) =SS_{\\sf res}=\\sum_{i=1}^{N}\\left(y^{\\sf exact}_i - y^{\\sf calc}_i\\right)^2 = \\sum_{i=1}^{N}\\left(y^{\\sf exact}_i - m\\cdot x_i - b \\right)^2\\;\\;\\;\\;\\;\\;\\;\\;\\;\\;\\;\\sf{eq. 2}$$\n",
        "\n",
        "To find out more see e.g. https://en.wikipedia.org/wiki/Simple_linear_regression\n"
      ]
    },
    {
      "cell_type": "markdown",
      "metadata": {
        "id": "18lLAfaHQBwZ"
      },
      "source": [
        "#### Question 2: linear regression loss function\n",
        "> Do we always want *m* and *b* to be large positive numbers so as to minimize eq. 2? "
      ]
    },
    {
      "cell_type": "markdown",
      "metadata": {
        "id": "cxPnpy8jQBwZ"
      },
      "source": [
        "\n",
        "Luckily [scikit-learn](https://scikit-learn.org/stable/) contains many functions related to regression including [linear regression](https://scikit-learn.org/stable/modules/linear_model.html). \n",
        "\n",
        "The function we will use is called <code> LinearRegression() </code>. \n",
        "\n",
        "```\n",
        "# Create linear regression object\n",
        "model = linear_model.LinearRegression()\n",
        "\n",
        "# Use model to fit to the data, the x values are densities and the y values are fixed acidity\n",
        "# Note that we need to reshape the vectors to be of the shape x - (n_samples, n_features) and y (n_samples, n_targets)\n",
        "x = red['density'].values.reshape(-1, 1)\n",
        "y = red['fixed acidity'].values.reshape(-1, 1)\n",
        "```"
      ]
    },
    {
      "cell_type": "code",
      "metadata": {
        "colab": {
          "base_uri": "https://localhost:8080/"
        },
        "id": "9C0Uf871Reg4",
        "outputId": "93bf60aa-558c-4967-9058-9da1534d01c6"
      },
      "source": [
        "red['density'].values.reshape(-1,1)"
      ],
      "execution_count": 44,
      "outputs": [
        {
          "output_type": "execute_result",
          "data": {
            "text/plain": [
              "array([[0.9978 ],\n",
              "       [0.9968 ],\n",
              "       [0.997  ],\n",
              "       ...,\n",
              "       [0.99574],\n",
              "       [0.99547],\n",
              "       [0.99549]])"
            ]
          },
          "metadata": {
            "tags": []
          },
          "execution_count": 44
        }
      ]
    },
    {
      "cell_type": "code",
      "metadata": {
        "id": "AUWdaOgMQBwZ"
      },
      "source": [
        "# Create linear regression object\n",
        "model = linear_model.LinearRegression()\n",
        "\n",
        "# Use model to fit to the data, the x values are densities and the y values are fixed acidity\n",
        "# Note that we need to reshape the vectors to be of the shape x - (n_samples, n_features) and y (n_samples, n_targets)\n",
        "x = red['density'].values.reshape(-1, 1)\n",
        "y = red['fixed acidity'].values.reshape(-1, 1)"
      ],
      "execution_count": 45,
      "outputs": []
    },
    {
      "cell_type": "markdown",
      "metadata": {
        "id": "M7dszV5EA-hL"
      },
      "source": [
        "```\n",
        "print(red['density'].values.shape, red['fixed acidity'].values.shape)\n",
        "print(x.shape, y.shape)\n",
        "```"
      ]
    },
    {
      "cell_type": "code",
      "metadata": {
        "id": "d25DN-kRAzw8",
        "colab": {
          "base_uri": "https://localhost:8080/"
        },
        "outputId": "c11ae2d0-ef43-4d3a-d2c3-8cc953a97ce1"
      },
      "source": [
        "print(red['density'].values.shape, red['fixed acidity'].values.shape)\n",
        "print(x.shape, y.shape)"
      ],
      "execution_count": 46,
      "outputs": [
        {
          "output_type": "stream",
          "text": [
            "(1599,) (1599,)\n",
            "(1599, 1) (1599, 1)\n"
          ],
          "name": "stdout"
        }
      ]
    },
    {
      "cell_type": "markdown",
      "metadata": {
        "id": "wD7EekCNBDiB"
      },
      "source": [
        "```\n",
        "# Fit to the data\n",
        "model.fit(x, y)\n",
        "\n",
        "# Extract the values of interest\n",
        "m = model.coef_[0][0]\n",
        "b = model.intercept_[0]\n",
        "\n",
        "# Print the slope m and intercept b\n",
        "print('Scikit learn - Slope: ', m , 'Intercept: ', b )\n",
        "```"
      ]
    },
    {
      "cell_type": "markdown",
      "metadata": {
        "id": "_Nn5Qu2ksoyQ"
      },
      "source": [
        "What happens when we try to fit the data as is?"
      ]
    },
    {
      "cell_type": "code",
      "metadata": {
        "id": "EGmVnF5tsmkl"
      },
      "source": [
        "# Fit to the data\n",
        "# model.fit(x, y)"
      ],
      "execution_count": 48,
      "outputs": []
    },
    {
      "cell_type": "markdown",
      "metadata": {
        "id": "W_mENW9GtVG5"
      },
      "source": [
        "#### Exercise 2: drop Null Values (and practice pandas operations)\n",
        "\n",
        "Let's look back at our dataset description dataframe above, what do we notice, what contains null values?\n",
        "\n",
        "There are several strategies for dealing with null values. For now let's take the simplest case, and drop rows in our dataframe that contain null"
      ]
    },
    {
      "cell_type": "code",
      "metadata": {
        "id": "DIF33-m5tT7u"
      },
      "source": [
        "# Cell for Exercise 2\n",
        "# For this templated exercise you are going to complete everything in one line \n",
        "# of code, but we are going to break it up into steps. So for each part (A, B,\n",
        "# etc.) paste your answer from the previous part to begin\n",
        "\n",
        "# step A\n",
        "# select the 'density' and 'fixed acidity' columns of red. make sure the return\n",
        "# is a dataframe\n",
        "\n",
        "red[['fixed acidity', 'density']]\n",
        "\n",
        "# step B\n",
        "# now use the dropna() method on axis 0 (the rows) to drop any null values \n",
        "\n",
        "red[['fixed acidity', 'density']].dropna(axis=0)\n",
        "\n",
        "# step B\n",
        "# select column 'density'\n",
        "\n",
        "red[['fixed acidity', 'density']].dropna(axis=0)['density']\n",
        "\n",
        "# step C\n",
        "# select the values\n",
        "\n",
        "red[['fixed acidity', 'density']].dropna(axis=0)['density'].values\n",
        "\n",
        "# step D\n",
        "# reshape the result with an empty second dimension using .reshape() and store\n",
        "# the result under variable x\n",
        "\n",
        "x = red[['fixed acidity', 'density']].dropna(axis=0)['density'].values.reshape(-1,1)\n",
        "\n",
        "# repeat the same process with 'fixed acidity' and variable y\n",
        "\n",
        "y = red[['fixed acidity', 'density']].dropna(axis=0)['fixed acidity'].values.reshape(-1,1)"
      ],
      "execution_count": 72,
      "outputs": []
    },
    {
      "cell_type": "markdown",
      "metadata": {
        "id": "1bRDIqBM9Fvk"
      },
      "source": [
        "Now that we have our x and y arrays we can fit using ScikitLearn"
      ]
    },
    {
      "cell_type": "code",
      "metadata": {
        "id": "xBrZ4w9nM4Co"
      },
      "source": [
        "x = red[['density', 'fixed acidity']].dropna(axis=0)['density'].values.reshape(-1,1)\n",
        "y = red[['density', 'fixed acidity']].dropna(axis=0)['fixed acidity'].values.reshape(-1,1)"
      ],
      "execution_count": 73,
      "outputs": []
    },
    {
      "cell_type": "code",
      "metadata": {
        "id": "eFH0SXRkAnDB",
        "colab": {
          "base_uri": "https://localhost:8080/"
        },
        "outputId": "8e20bccb-ac30-492c-e001-58d49afb44c2"
      },
      "source": [
        "# Fit to the data\n",
        "model.fit(x, y)\n",
        "\n",
        "# Extract the values of interest\n",
        "m = model.coef_[0][0]\n",
        "b = model.intercept_[0]\n",
        "\n",
        "# Print the slope m and intercept b\n",
        "print('Scikit learn - Slope: ', m , 'Intercept: ', b )"
      ],
      "execution_count": 83,
      "outputs": [
        {
          "output_type": "stream",
          "text": [
            "Scikit learn - Slope:  616.0131428066102 Intercept:  -605.6880086750525\n"
          ],
          "name": "stdout"
        }
      ]
    },
    {
      "cell_type": "markdown",
      "metadata": {
        "id": "4uFUK6QfQBwa"
      },
      "source": [
        "#### Exercise 3: calculating Y_pred\n",
        "Estimate the values of $y$ by using your fitted parameters. Hint: Use your <code>model.coef_</code> and <code>model.intercept_</code> parameters to estimate y_pred following equation 1\n"
      ]
    },
    {
      "cell_type": "code",
      "metadata": {
        "id": "VFVrL1VQQBwa",
        "colab": {
          "base_uri": "https://localhost:8080/",
          "height": 609
        },
        "outputId": "972d7e3a-40a8-4573-d8c5-4658e9bdb398"
      },
      "source": [
        "# define y_pred in terms of m, x, and \n",
        "m = model.coef_[0][0]\n",
        "b = model.intercept_[0]\n",
        "# y_pred =m * x + b\n",
        "y_pred = m * x + b\n",
        "\n",
        "fig, ax = plt.subplots(1,1, figsize=(10,10))\n",
        "ax.plot(x, y_pred, ls='', marker='*')\n",
        "ax.plot(x, y, ls='', marker='.')"
      ],
      "execution_count": 86,
      "outputs": [
        {
          "output_type": "execute_result",
          "data": {
            "text/plain": [
              "[<matplotlib.lines.Line2D at 0x7f4277584150>]"
            ]
          },
          "metadata": {
            "tags": []
          },
          "execution_count": 86
        },
        {
          "output_type": "display_data",
          "data": {
            "image/png": "[encoded data removed]",
            "text/plain": [
              "<Figure size 720x720 with 1 Axes>"
            ]
          },
          "metadata": {
            "tags": [],
            "needs_background": "light"
          }
        }
      ]
    },
    {
      "cell_type": "markdown",
      "metadata": {
        "id": "pzeGpYvs9UlK"
      },
      "source": [
        "We can also return predictions directly with the model object using the predict() method"
      ]
    },
    {
      "cell_type": "code",
      "metadata": {
        "id": "7DFlw26PQBwa",
        "colab": {
          "base_uri": "https://localhost:8080/",
          "height": 609
        },
        "outputId": "631fef30-80bf-4a18-b347-ba2b95c732e2"
      },
      "source": [
        "# Another way to get this is using the model.predict function\n",
        "y_pred = model.predict(x)\n",
        "fig, ax = plt.subplots(1,1, figsize=(10,10))\n",
        "ax.plot(x, y_pred, ls='-')\n",
        "ax.plot(x, y, ls='', marker='.')"
      ],
      "execution_count": 88,
      "outputs": [
        {
          "output_type": "execute_result",
          "data": {
            "text/plain": [
              "[<matplotlib.lines.Line2D at 0x7f4277014610>]"
            ]
          },
          "metadata": {
            "tags": []
          },
          "execution_count": 88
        },
        {
          "output_type": "display_data",
          "data": {
            "image/png": "[encoded data removed]",
            "text/plain": [
              "<Figure size 720x720 with 1 Axes>"
            ]
          },
          "metadata": {
            "tags": [],
            "needs_background": "light"
          }
        }
      ]
    },
    {
      "cell_type": "markdown",
      "metadata": {
        "id": "FSsBFNvcQBwb"
      },
      "source": [
        "## 1.3 Error and topics of model fitting (assessing model accuracy)"
      ]
    },
    {
      "cell_type": "markdown",
      "metadata": {
        "id": "WZsrmzofNDj9"
      },
      "source": [
        "### 1.3.1 Measuring the quality of fit"
      ]
    },
    {
      "cell_type": "markdown",
      "metadata": {
        "id": "KKfamij9QBwb"
      },
      "source": [
        "#### 1.3.1.1 Mean Squared Error\n",
        "\n",
        "The plot in Section 1.2.3 looks good, but numerically what is our error? What is the mean value of $\\epsilon$, i.e. the **Mean Squared Error (MSE)**?\n",
        "\n",
        "$${\\sf MSE}=\\epsilon_{\\sf ave} = \\frac{\\sum_{i=1}^{N_{\\sf times}}\\left(y^{\\sf exact}_i - m\\cdot t_i - b \\right)^2}{N_{\\sf times}}\\;\\;\\;\\;\\;\\sf eq. 3$$\n",
        "\n",
        "```\n",
        "# The mean squared error\n",
        "print('Mean squared error: %.2f' % mean_squared_error(y, y_pred))\n",
        "```"
      ]
    },
    {
      "cell_type": "code",
      "metadata": {
        "id": "BDCUEKNQQBwb",
        "colab": {
          "base_uri": "https://localhost:8080/"
        },
        "outputId": "6da182fb-4dc1-4f09-8123-482e181b73dd"
      },
      "source": [
        "# The mean squared error\n",
        "print('Mean squared error: %.2f' % mean_squared_error(y, y_pred))"
      ],
      "execution_count": 90,
      "outputs": [
        {
          "output_type": "stream",
          "text": [
            "Mean squared error: 1.68\n"
          ],
          "name": "stdout"
        }
      ]
    },
    {
      "cell_type": "markdown",
      "metadata": {
        "id": "5m88vMlkQBwb"
      },
      "source": [
        "#### 1.3.1.2 R-square\n",
        "\n",
        "Another way to measure error is the regression score, $R^2$. $R^2$ is generally defined as the ratio of the total sum of squares $SS_{\\sf tot} $ to the residual sum of squares $SS_{\\sf res} $:\n",
        "\n",
        "$$SS_{\\sf tot}=\\sum_{i=1}^{N} \\left(y^{\\sf exact}_i-\\bar{y}\\right)^2\\;\\;\\;\\;\\; \\sf eq. 4$$\n",
        "$$SS_{\\sf res}=\\sum_{i=1}^{N} \\left(y^{\\sf exact}_i - y^{\\sf calc}_i\\right)^2\\;\\;\\;\\;\\; \\sf eq. 5$$\n",
        "$$R^2 = 1 - {SS_{\\sf res}\\over SS_{\\sf tot}} \\;\\;\\;\\;\\;\\; \\sf eq. 6$$\n",
        "\n",
        "In eq. 4, $\\bar{y}=\\sum_i y^{\\sf exact}_i/N$ is the average value of y for $N$ points. The best value of $R^2$ is 1 but it can also take a negative value if the error is large.\n",
        "\n",
        "See all the different regression metrics [here](https://scikit-learn.org/stable/modules/model_evaluation.html)."
      ]
    },
    {
      "cell_type": "markdown",
      "metadata": {
        "id": "L5qg7H3_QBwb"
      },
      "source": [
        "#### Question 3\n",
        "> Do we need a large value of $SS_{\\sf tot}$ to minimize $R^2$ - is this something which we have the power to control?"
      ]
    },
    {
      "cell_type": "markdown",
      "metadata": {
        "id": "7maWcZuQ_CVD"
      },
      "source": [
        "```\n",
        "# Print the coefficient of determination - 1 is perfect prediction\n",
        "print('Coefficient of determination: %.2f' % r2_score(y, y_pred))\n",
        "```"
      ]
    },
    {
      "cell_type": "code",
      "metadata": {
        "id": "Ejt0nyHJQBwb",
        "colab": {
          "base_uri": "https://localhost:8080/"
        },
        "outputId": "38009213-bf45-4625-9caf-7e1b7f998b0f"
      },
      "source": [
        "# Print the coefficient of determination - 1 is perfect prediction\n",
        "print('Coefficient of determination: %.2f' % r2_score(y, y_pred))"
      ],
      "execution_count": 91,
      "outputs": [
        {
          "output_type": "stream",
          "text": [
            "Coefficient of determination: 0.45\n"
          ],
          "name": "stdout"
        }
      ]
    },
    {
      "cell_type": "markdown",
      "metadata": {
        "id": "5Fg5RUDzQMd-"
      },
      "source": [
        "### 1.3.2 Corollaries with classification models\n",
        "\n",
        "For classification tasks, we typically assess accuracy vs MSE or R-square, since we are dealing with categorical rather than numerical predictions.\n",
        "\n",
        "What is accuracy? It is defined as the ratio of True assignments to all assignments. For a binary positive/negative classification task this can be written as the following:\n",
        "\n",
        "$ Acc = \\frac{T_p + T_n}{F_p + F_n + T_p + T_n} $\n",
        "\n",
        "Where $T$ is True, $F$ is false, $p$ is positive, $n$ is negative\n",
        "\n",
        "Just as a quick example, we can perform this type of task on our wine dataset by predicting on quality, which is a discrete 3-9 quality score:"
      ]
    },
    {
      "cell_type": "code",
      "metadata": {
        "id": "YZgcBBP4Q2GC"
      },
      "source": [
        "y_train = df['type'].values.reshape(-1,1)\n",
        "x_train = df['quality'].values.reshape(-1,1)"
      ],
      "execution_count": 92,
      "outputs": []
    },
    {
      "cell_type": "code",
      "metadata": {
        "colab": {
          "base_uri": "https://localhost:8080/"
        },
        "id": "RLLi0PAnQQ7M",
        "outputId": "c7dd9a43-88e4-4a4a-a4e9-9438b73e8d51"
      },
      "source": [
        "# train a logistic regression model on the training set\n",
        "from sklearn.linear_model import LogisticRegression\n",
        "\n",
        "# instantiate model\n",
        "logreg = LogisticRegression()\n",
        "\n",
        "# fit model\n",
        "logreg.fit(x_train, y_train)"
      ],
      "execution_count": 93,
      "outputs": [
        {
          "output_type": "stream",
          "text": [
            "/usr/local/lib/python3.7/dist-packages/sklearn/utils/validation.py:760: DataConversionWarning: A column-vector y was passed when a 1d array was expected. Please change the shape of y to (n_samples, ), for example using ravel().\n",
            "  y = column_or_1d(y, warn=True)\n"
          ],
          "name": "stderr"
        },
        {
          "output_type": "execute_result",
          "data": {
            "text/plain": [
              "LogisticRegression(C=1.0, class_weight=None, dual=False, fit_intercept=True,\n",
              "                   intercept_scaling=1, l1_ratio=None, max_iter=100,\n",
              "                   multi_class='auto', n_jobs=None, penalty='l2',\n",
              "                   random_state=None, solver='lbfgs', tol=0.0001, verbose=0,\n",
              "                   warm_start=False)"
            ]
          },
          "metadata": {
            "tags": []
          },
          "execution_count": 93
        }
      ]
    },
    {
      "cell_type": "code",
      "metadata": {
        "id": "2yM5sI5_RIJc"
      },
      "source": [
        "# make class predictions for the testing set\n",
        "y_pred_class = logreg.predict(x_train)"
      ],
      "execution_count": 94,
      "outputs": []
    },
    {
      "cell_type": "code",
      "metadata": {
        "colab": {
          "base_uri": "https://localhost:8080/"
        },
        "id": "qB2CPVCvRLqF",
        "outputId": "452e1e55-2034-4833-d4d4-7742f9693f2e"
      },
      "source": [
        "# calculate accuracy\n",
        "from sklearn import metrics\n",
        "print(metrics.accuracy_score(y_train, y_pred_class))"
      ],
      "execution_count": 96,
      "outputs": [
        {
          "output_type": "stream",
          "text": [
            "0.7538864091118977\n"
          ],
          "name": "stdout"
        }
      ]
    },
    {
      "cell_type": "markdown",
      "metadata": {
        "id": "bbXhulIfQBwc"
      },
      "source": [
        "### 1.3.3 Beyond a single input feature\n",
        "\n",
        "(_also: quick appreciative beat for folding in domain area expertise into our models and features_)"
      ]
    },
    {
      "cell_type": "markdown",
      "metadata": {
        "id": "tizRPJ_GQBwc"
      },
      "source": [
        "The **acidity** of the wine (the dependent variable v) could depend on:\n",
        "\n",
        "* potassium from the soil (increases alkalinity)\n",
        "* unripe grapes (increases acidity)\n",
        "* grapes grown in colder climates or reduced sunshine create less sugar (increases acidity)\n",
        "* preprocessing such as adding tartaric acid to the grape juice before fermentation (increases acidity)\n",
        "* malolactic fermentation (reduces acidity)\n",
        "* \\+ others\n",
        "\n",
        "So in our lab today we will look at folding in additional variables in our dataset into the model\n",
        "<hr style=\"border:1px solid grey\"> </hr>\n"
      ]
    },
    {
      "cell_type": "markdown",
      "metadata": {
        "id": "UmZ5TyuBQBwc"
      },
      "source": [
        "## 1.4 Multivariate regression"
      ]
    },
    {
      "cell_type": "markdown",
      "metadata": {
        "id": "9BfuJFk4QBwc"
      },
      "source": [
        "Let's now turn our attention to wine quality.\n",
        "\n",
        "The value we aim to predict or evaluate is the quality of each wine in our dataset. This is our dependent variable. We will look at how this is related to the 12 other independent variables, also known as *input features*. We're going to do this is just the red wine data"
      ]
    },
    {
      "cell_type": "code",
      "metadata": {
        "colab": {
          "base_uri": "https://localhost:8080/",
          "height": 222
        },
        "id": "pufA3ZJmZcim",
        "outputId": "fe59bfd5-0d37-4c55-8cdf-5efa5427c82d"
      },
      "source": [
        "red.head()"
      ],
      "execution_count": 97,
      "outputs": [
        {
          "output_type": "execute_result",
          "data": {
            "text/html": [
              "<div>\n",
              "<style scoped>\n",
              "    .dataframe tbody tr th:only-of-type {\n",
              "        vertical-align: middle;\n",
              "    }\n",
              "\n",
              "    .dataframe tbody tr th {\n",
              "        vertical-align: top;\n",
              "    }\n",
              "\n",
              "    .dataframe thead th {\n",
              "        text-align: right;\n",
              "    }\n",
              "</style>\n",
              "<table border=\"1\" class=\"dataframe\">\n",
              "  <thead>\n",
              "    <tr style=\"text-align: right;\">\n",
              "      <th></th>\n",
              "      <th>type</th>\n",
              "      <th>fixed acidity</th>\n",
              "      <th>volatile acidity</th>\n",
              "      <th>citric acid</th>\n",
              "      <th>residual sugar</th>\n",
              "      <th>chlorides</th>\n",
              "      <th>free sulfur dioxide</th>\n",
              "      <th>total sulfur dioxide</th>\n",
              "      <th>density</th>\n",
              "      <th>pH</th>\n",
              "      <th>sulphates</th>\n",
              "      <th>alcohol</th>\n",
              "      <th>quality</th>\n",
              "    </tr>\n",
              "  </thead>\n",
              "  <tbody>\n",
              "    <tr>\n",
              "      <th>4898</th>\n",
              "      <td>red</td>\n",
              "      <td>7.4</td>\n",
              "      <td>0.70</td>\n",
              "      <td>0.00</td>\n",
              "      <td>1.9</td>\n",
              "      <td>0.076</td>\n",
              "      <td>11.0</td>\n",
              "      <td>34.0</td>\n",
              "      <td>0.9978</td>\n",
              "      <td>3.51</td>\n",
              "      <td>0.56</td>\n",
              "      <td>9.4</td>\n",
              "      <td>5</td>\n",
              "    </tr>\n",
              "    <tr>\n",
              "      <th>4899</th>\n",
              "      <td>red</td>\n",
              "      <td>7.8</td>\n",
              "      <td>0.88</td>\n",
              "      <td>0.00</td>\n",
              "      <td>2.6</td>\n",
              "      <td>0.098</td>\n",
              "      <td>25.0</td>\n",
              "      <td>67.0</td>\n",
              "      <td>0.9968</td>\n",
              "      <td>3.20</td>\n",
              "      <td>0.68</td>\n",
              "      <td>9.8</td>\n",
              "      <td>5</td>\n",
              "    </tr>\n",
              "    <tr>\n",
              "      <th>4900</th>\n",
              "      <td>red</td>\n",
              "      <td>7.8</td>\n",
              "      <td>0.76</td>\n",
              "      <td>0.04</td>\n",
              "      <td>2.3</td>\n",
              "      <td>0.092</td>\n",
              "      <td>15.0</td>\n",
              "      <td>54.0</td>\n",
              "      <td>0.9970</td>\n",
              "      <td>3.26</td>\n",
              "      <td>0.65</td>\n",
              "      <td>9.8</td>\n",
              "      <td>5</td>\n",
              "    </tr>\n",
              "    <tr>\n",
              "      <th>4901</th>\n",
              "      <td>red</td>\n",
              "      <td>11.2</td>\n",
              "      <td>0.28</td>\n",
              "      <td>0.56</td>\n",
              "      <td>1.9</td>\n",
              "      <td>0.075</td>\n",
              "      <td>17.0</td>\n",
              "      <td>60.0</td>\n",
              "      <td>0.9980</td>\n",
              "      <td>3.16</td>\n",
              "      <td>0.58</td>\n",
              "      <td>9.8</td>\n",
              "      <td>6</td>\n",
              "    </tr>\n",
              "    <tr>\n",
              "      <th>4902</th>\n",
              "      <td>red</td>\n",
              "      <td>7.4</td>\n",
              "      <td>0.70</td>\n",
              "      <td>0.00</td>\n",
              "      <td>1.9</td>\n",
              "      <td>0.076</td>\n",
              "      <td>11.0</td>\n",
              "      <td>34.0</td>\n",
              "      <td>0.9978</td>\n",
              "      <td>3.51</td>\n",
              "      <td>0.56</td>\n",
              "      <td>9.4</td>\n",
              "      <td>5</td>\n",
              "    </tr>\n",
              "  </tbody>\n",
              "</table>\n",
              "</div>"
            ],
            "text/plain": [
              "     type  fixed acidity  volatile acidity  ...  sulphates  alcohol  quality\n",
              "4898  red            7.4              0.70  ...       0.56      9.4        5\n",
              "4899  red            7.8              0.88  ...       0.68      9.8        5\n",
              "4900  red            7.8              0.76  ...       0.65      9.8        5\n",
              "4901  red           11.2              0.28  ...       0.58      9.8        6\n",
              "4902  red            7.4              0.70  ...       0.56      9.4        5\n",
              "\n",
              "[5 rows x 13 columns]"
            ]
          },
          "metadata": {
            "tags": []
          },
          "execution_count": 97
        }
      ]
    },
    {
      "cell_type": "markdown",
      "metadata": {
        "id": "v0gFPI5jQBwc"
      },
      "source": [
        "### 1.4.1 Linear regression with all input fields\n",
        "\n",
        "For this example, notice we have a categorical data variable in the 'type' column. We will ignore this for now, and only work with our red wines. In the future we will discuss how to deal with categorical variable such as this in a mathematical representation."
      ]
    },
    {
      "cell_type": "code",
      "metadata": {
        "id": "pTMH3DRYS5_l"
      },
      "source": [
        "# this is a list of all our features or independent variables\n",
        "features = list(red.columns[1:])\n",
        "\n",
        "# we're going to remove our target or dependent variable, density from this\n",
        "# list\n",
        "features.remove('density')\n",
        "\n",
        "# now we define X and y according to these lists of names\n",
        "X = red.dropna(axis=0)[features].values\n",
        "y = red.dropna(axis=0)['density'].values"
      ],
      "execution_count": 100,
      "outputs": []
    },
    {
      "cell_type": "code",
      "metadata": {
        "colab": {
          "base_uri": "https://localhost:8080/"
        },
        "id": "WpwHenyba1tC",
        "outputId": "4ce29ea1-cbac-497d-d9aa-84feb18b4d6b"
      },
      "source": [
        "red.isnull().sum(axis=0) # we are getting rid of some nasty nulls!"
      ],
      "execution_count": 99,
      "outputs": [
        {
          "output_type": "execute_result",
          "data": {
            "text/plain": [
              "type                    0\n",
              "fixed acidity           2\n",
              "volatile acidity        1\n",
              "citric acid             1\n",
              "residual sugar          0\n",
              "chlorides               0\n",
              "free sulfur dioxide     0\n",
              "total sulfur dioxide    0\n",
              "density                 0\n",
              "pH                      2\n",
              "sulphates               2\n",
              "alcohol                 0\n",
              "quality                 0\n",
              "dtype: int64"
            ]
          },
          "metadata": {
            "tags": []
          },
          "execution_count": 99
        }
      ]
    },
    {
      "cell_type": "markdown",
      "metadata": {
        "id": "PFQLm9NKAA5k"
      },
      "source": [
        "\n",
        "\n",
        "```\n",
        "# Create linear regression object - note that we are using all the input features\n",
        "model = linear_model.LinearRegression()\n",
        "model.fit(X, y)\n",
        "Y_calc = model.predict(X)\n",
        "```\n",
        "\n"
      ]
    },
    {
      "cell_type": "code",
      "metadata": {
        "id": "PGb0rkrUQBwc"
      },
      "source": [
        "# Create linear regression object - note that we are using all the input features\n",
        "model = linear_model.LinearRegression()\n",
        "model.fit(X, y)\n",
        "y_calc = model.predict(X)"
      ],
      "execution_count": 101,
      "outputs": []
    },
    {
      "cell_type": "markdown",
      "metadata": {
        "id": "DCrrNd-MQBwc"
      },
      "source": [
        "Let's see what the coefficients look like ... \n",
        "\n",
        "```\n",
        "print(\"Fit coefficients: \\n\", model.coef_, \"\\nNumber of coefficients:\", len(model.coef_))\n",
        "```"
      ]
    },
    {
      "cell_type": "code",
      "metadata": {
        "id": "JwVVXevBQBwd",
        "colab": {
          "base_uri": "https://localhost:8080/"
        },
        "outputId": "56c88641-bfbb-4776-c305-7cd4a2bd203b"
      },
      "source": [
        "print(\"Fit coefficients: \\n\", model.coef_, \"\\nNumber of coefficients:\", len(model.coef_))"
      ],
      "execution_count": 102,
      "outputs": [
        {
          "output_type": "stream",
          "text": [
            "Fit coefficients: \n",
            " [ 9.42796851e-04  6.91804101e-04  5.96131573e-05  4.13002753e-04\n",
            "  1.77414632e-03 -8.79414703e-06  2.61750150e-06  5.06277080e-03\n",
            "  1.32356143e-03 -9.20862092e-04 -2.17464295e-05] \n",
            "Number of coefficients: 11\n"
          ],
          "name": "stdout"
        }
      ]
    },
    {
      "cell_type": "markdown",
      "metadata": {
        "id": "oMOoVRCnQBwd"
      },
      "source": [
        "We have 11 !!! That's because we are regressing respect to all **11 independent variables**!!!\n",
        "\n",
        "So now, $$y_{\\sf calc}= m_1x_1 +\\, m_2x_2 \\,+ \\,m_3x_3 \\,+\\,... \\,+ \\,b =\\sum_{i=1}^{13}m_i x_i + b\\;\\;\\;\\;\\; \\sf eq. 7$$\n",
        "\n",
        "```\n",
        "print(\"We have 13 slopes / weights:\\n\\n\", model.coef_)\n",
        "print(\"\\nAnd one intercept: \", model.intercept_)\n",
        "```"
      ]
    },
    {
      "cell_type": "code",
      "metadata": {
        "id": "0MjMu6ZHQBwd",
        "colab": {
          "base_uri": "https://localhost:8080/"
        },
        "outputId": "99dd3618-aa40-4e55-aafc-6cdeb1fd9a20"
      },
      "source": [
        "print(\"We have 11 slopes / weights:\\n\\n\", model.coef_)\n",
        "print(\"\\nAnd one intercept: \", model.intercept_)"
      ],
      "execution_count": 103,
      "outputs": [
        {
          "output_type": "stream",
          "text": [
            "We have 11 slopes / weights:\n",
            "\n",
            " [ 9.42796851e-04  6.91804101e-04  5.96131573e-05  4.13002753e-04\n",
            "  1.77414632e-03 -8.79414703e-06  2.61750150e-06  5.06277080e-03\n",
            "  1.32356143e-03 -9.20862092e-04 -2.17464295e-05]\n",
            "\n",
            "And one intercept:  0.9794206207830903\n"
          ],
          "name": "stdout"
        }
      ]
    },
    {
      "cell_type": "markdown",
      "metadata": {
        "id": "g38n0LYrASjb"
      },
      "source": [
        "```\n",
        "# This size should match the number of columns in X\n",
        "if len(X[0]) == len(model.coef_):\n",
        "    print(\"All good! The number of coefficients matches the number of input features.\")\n",
        "else:\n",
        "    print(\"Hmm .. something strange is going on.\")\n",
        "```"
      ]
    },
    {
      "cell_type": "code",
      "metadata": {
        "id": "n3LIvyorQBwd",
        "colab": {
          "base_uri": "https://localhost:8080/"
        },
        "outputId": "882329a9-f0c7-4e63-de65-52df0ce27449"
      },
      "source": [
        "# This size should match the number of columns in X\n",
        "if len(X[0]) == len(model.coef_):\n",
        "    print(\"All good! The number of coefficients matches the number of input features.\")\n",
        "else:\n",
        "    print(\"Hmm .. something strange is going on.\")"
      ],
      "execution_count": 104,
      "outputs": [
        {
          "output_type": "stream",
          "text": [
            "All good! The number of coefficients matches the number of input features.\n"
          ],
          "name": "stdout"
        }
      ]
    },
    {
      "cell_type": "markdown",
      "metadata": {
        "id": "yKVDvEtMQBwd"
      },
      "source": [
        "### 1.4.2 Exercise 4: evaluate the error\n",
        "\n",
        "Let's **evaluate the error** by computing the MSE and $R^2$ metrics (see eq. 3 and 6).\n",
        "\n",
        "```\n",
        "# The mean squared error\n",
        "\n",
        "# part A \n",
        "# calculate the MSE using mean_squared_error()\n",
        "# mse = \n",
        "\n",
        "# part B\n",
        "# calculate the R square using r2_score()\n",
        "# r2 = \n",
        "\n",
        "print('Mean squared error: {:.2f}'.format(mse)\n",
        "print('Coefficient of determination: {:.2f}'.format(r2)\n",
        "```"
      ]
    },
    {
      "cell_type": "code",
      "metadata": {
        "id": "lpRwoUiGQBwd",
        "colab": {
          "base_uri": "https://localhost:8080/"
        },
        "outputId": "f8764b03-60eb-414b-df89-a74b7c338c48"
      },
      "source": [
        "# The mean squared error\n",
        "\n",
        "# part A \n",
        "# calculate the MSE using mean_squared_error()\n",
        "mse = mean_squared_error(y, model.predict(X))\n",
        "\n",
        "# part B\n",
        "# calculate the R square using r2_score()\n",
        "r2 = r2_score(y, model.predict(X))\n",
        "\n",
        "print('Mean squared error: {:.2e}'.format(mse))\n",
        "print('Coefficient of determination: {:.2f}'.format(r2))"
      ],
      "execution_count": 113,
      "outputs": [
        {
          "output_type": "stream",
          "text": [
            "Mean squared error: 5.62e-07\n",
            "Coefficient of determination: 0.84\n"
          ],
          "name": "stdout"
        }
      ]
    },
    {
      "cell_type": "markdown",
      "metadata": {
        "id": "HO-kXJKUQBwd"
      },
      "source": [
        "### 1.4.3 Exercise 5: make a plot of y actual vs y predicted\n",
        "\n",
        "We can also look at how well the computed values match the true values graphically by generating a scatterplot.\n",
        "\n",
        "```\n",
        "# generate a plot of y predicted vs y actual using plt.plot()\n",
        "# remember you must set ls to an empty string and marker to some marker style\n",
        "\n",
        "# plt.plot()\n",
        "plt.title(\"Linear regression - computed values on entire data set\", fontsize=16)\n",
        "plt.xlabel(\"y$^{\\sf calc}$\")\n",
        "plt.ylabel(\"y$^{\\sf true}$\")\n",
        "plt.show()\n",
        "```"
      ]
    },
    {
      "cell_type": "code",
      "metadata": {
        "id": "-YbuZYZ9QBwd",
        "colab": {
          "base_uri": "https://localhost:8080/",
          "height": 303
        },
        "outputId": "22aa6a72-18f1-4c26-8302-fed379d0a08a"
      },
      "source": [
        "# generate a plot of y predicted vs y actual using plt.plot()\n",
        "# remember you must set ls to an empty string and marker to some marker style\n",
        "\n",
        "plt.plot(model.predict(X), y, ls='', marker='.', alpha=0.3)\n",
        "plt.title(\"Linear regression - computed values on entire data set\", fontsize=16)\n",
        "plt.xlabel(\"y$^{\\sf calc}$\")\n",
        "plt.ylabel(\"y$^{\\sf true}$\")\n",
        "plt.show()"
      ],
      "execution_count": 117,
      "outputs": [
        {
          "output_type": "display_data",
          "data": {
            "image/png": "[encoded data removed]",
            "text/plain": [
              "<Figure size 432x288 with 1 Axes>"
            ]
          },
          "metadata": {
            "tags": [],
            "needs_background": "light"
          }
        }
      ]
    },
    {
      "cell_type": "markdown",
      "metadata": {
        "id": "2UydCmgrQBwd"
      },
      "source": [
        "### 1.4.2 **Enrichment**: Splitting into train and test sets\n",
        "\n",
        "To see whether we can predict, we will carry out our regression only on a part, 80%, of the full data set. This part is called the **training** data. We will then test the trained model to predict the rest of the data, 20% - the **test** data. The function which fits won't see the test data until it has to predict it. \n",
        "\n",
        "**We will motivate the use of train/test sets more explicitly in Course 2 Session 1**\n",
        "\n",
        "We start by splitting out data using scikit-learn's <code> train_test_split() </code> function:"
      ]
    },
    {
      "cell_type": "markdown",
      "metadata": {
        "id": "RWn0QyYcQBwd"
      },
      "source": [
        "```\n",
        "X_train, X_test, y_train, y_test = train_test_split(X, y, \n",
        "                                                    test_size=0.20,\n",
        "                                                    random_state=42)\n",
        "                                                    ```"
      ]
    },
    {
      "cell_type": "code",
      "metadata": {
        "id": "EDf1TMuKQBwd"
      },
      "source": [
        "X_train, X_test, y_train, y_test = train_test_split(X, y, \n",
        "                                                    test_size=0.20,\n",
        "                                                    random_state=42)"
      ],
      "execution_count": 120,
      "outputs": []
    },
    {
      "cell_type": "markdown",
      "metadata": {
        "id": "amGMkkp5QBwd"
      },
      "source": [
        "Now we check the size of <code> y_train </code> and <code> y_test </code>, the sum should be the size of y! If this works then we move on and carry out regression but we only use the training data!\n",
        "\n",
        "```\n",
        "if len(y_test)+len(y_train) == len(y):\n",
        "    \n",
        "    print('All good, ready to to go and regress!\\n')\n",
        "    \n",
        "    # Carry out linear regression\n",
        "    print('Running linear regression algorithm on the training set\\n')\n",
        "    model = linear_model.LinearRegression()\n",
        "    model.fit(X_train, y_train)\n",
        "    print('Fit coefficients and intercept:\\n\\n', model.coef_, '\\n\\n', model.intercept_ )\n",
        "\n",
        "    # Predict on the test set\n",
        "    y_pred_test = model.predict(X_test)\n",
        "```"
      ]
    },
    {
      "cell_type": "code",
      "metadata": {
        "id": "ExHWM4MlQBwd",
        "colab": {
          "base_uri": "https://localhost:8080/"
        },
        "outputId": "528c8f36-a6d3-4ab4-cf18-c107aecb72a8"
      },
      "source": [
        "if len(y_test)+len(y_train) == len(y):\n",
        "    \n",
        "    print('All good, ready to to go and regress!\\n')\n",
        "    \n",
        "    # Carry out linear regression\n",
        "    print('Running linear regression algorithm on the training set\\n')\n",
        "    model = linear_model.LinearRegression()\n",
        "    model.fit(X_train, y_train)\n",
        "    print('Fit coefficients and intercept:\\n\\n', model.coef_, '\\n\\n', model.intercept_ )\n",
        "\n",
        "    # Predict on the test set\n",
        "    y_pred_test = model.predict(X_test)"
      ],
      "execution_count": null,
      "outputs": [
        {
          "output_type": "stream",
          "text": [
            "All good, ready to to go and regress!\n",
            "\n",
            "Running linear regression algorithm on the training set\n",
            "\n",
            "Fit coefficients and intercept:\n",
            "\n",
            " [ 9.33178495e-04  6.16926970e-04  3.97991174e-06  4.16370328e-04\n",
            "  1.62394928e-03 -9.91971827e-06  2.69686071e-06  5.05056377e-03\n",
            "  1.31752524e-03 -9.38947432e-04  7.24835766e-06] \n",
            "\n",
            " 0.9796448738246895\n"
          ],
          "name": "stdout"
        }
      ]
    },
    {
      "cell_type": "markdown",
      "metadata": {
        "id": "Tff8dv_1QBwd"
      },
      "source": [
        "Now we can plot our predicted values to see how accurate we are in predicting. We will generate a scatterplot and computing the MSE and $R^2$ metrics of error.\n",
        "\n",
        "```\n",
        "sns.scatterplot(x=y_pred_test, y=y_test, color=\"mediumvioletred\", s=50)\n",
        "\n",
        "plt.title(\"Linear regression - predict test set\", fontsize=16)\n",
        "plt.xlabel(\"y$^{\\sf calc}$\")\n",
        "plt.ylabel(\"y$^{\\sf true}$\")\n",
        "plt.show()\n",
        "\n",
        "print('Mean squared error: %.2f' % mean_squared_error(y_test, y_pred_test))\n",
        "print('Coefficient of determination: %.2f' % r2_score(y_test, y_pred_test))\n",
        "```"
      ]
    },
    {
      "cell_type": "code",
      "metadata": {
        "id": "TqWNcQcHQBwd",
        "colab": {
          "base_uri": "https://localhost:8080/",
          "height": 337
        },
        "outputId": "2c8e7de9-ec90-44ba-9918-0f6f46bcb963"
      },
      "source": [
        "sns.scatterplot(x=y_pred_test, y=y_test, color=\"mediumvioletred\", s=50)\n",
        "\n",
        "plt.title(\"Linear regression - predict test set\", fontsize=16)\n",
        "plt.xlabel(\"y$^{\\sf calc}$\")\n",
        "plt.ylabel(\"y$^{\\sf true}$\")\n",
        "plt.show()\n",
        "\n",
        "print('Mean squared error: %.2f' % mean_squared_error(y_test, y_pred_test))\n",
        "print('Coefficient of determination: %.2f' % r2_score(y_test, y_pred_test))"
      ],
      "execution_count": null,
      "outputs": [
        {
          "output_type": "display_data",
          "data": {
            "image/png": "[encoded data removed]",
            "text/plain": [
              "<Figure size 432x288 with 1 Axes>"
            ]
          },
          "metadata": {
            "tags": [],
            "needs_background": "light"
          }
        },
        {
          "output_type": "stream",
          "text": [
            "Mean squared error: 0.00\n",
            "Coefficient of determination: 0.87\n"
          ],
          "name": "stdout"
        }
      ]
    },
    {
      "cell_type": "markdown",
      "metadata": {
        "id": "Ri5ILlZqQBwd"
      },
      "source": [
        "#### 1.4.2.1 Other data considerations\n",
        "\n",
        "* Do we need all the independent variables? \n",
        "  * Topics of interential statistics covered in a couple sessions\n",
        "\n",
        "* Can we output integer quality scores? \n",
        "  * Topics of non-binary classification tasks covered in week 4"
      ]
    },
    {
      "cell_type": "markdown",
      "metadata": {
        "id": "_9cvFD6vQBwe"
      },
      "source": [
        "### 1.4.3 **Enrichment**: Other regression algorithms"
      ]
    },
    {
      "cell_type": "markdown",
      "metadata": {
        "id": "etYVqBBjQBwe"
      },
      "source": [
        "There are many other regression algorithms the two we want to highlight here are Ridge, LASSO, and Elastic Net. They differ by an added term to the loss function. Let's review. Eq. 2 expanded to multivariate form yields:\n",
        "\n",
        "$$\\sum_{i=1}^{N}(y_i - \\sum_{j=1}^{P}x_{ij}\\beta_{j})^2$$\n",
        "\n",
        "for Ridge regression, we add a **_regularization_** term known as **_L2_** regularization:\n",
        "\n",
        "$$\\sum_{i=1}^{N}(y_i - \\sum_{j=1}^{P}x_{ij}\\beta_{j})^2 + \\lambda \\sum_{j=1}^{P}\\beta_{j}^2$$\n",
        "\n",
        "for **_LASSO_** (Least Absolute Shrinkage and Selection Operator) we add **_L1_** regularization:\n",
        "\n",
        "$$\\sum_{i=1}^{N}(y_i - \\sum_{j=1}^{P}x_{ij}\\beta_{j})^2 + \\lambda \\sum_{j=1}^{P}|\\beta_{j}|$$\n",
        "\n",
        "The key difference here is that LASSO will allow coefficients to shrink to 0 while Ridge regression will not. **_Elastic Net_** is a combination of these two regularization methods."
      ]
    },
    {
      "cell_type": "markdown",
      "metadata": {
        "id": "xCUJPE3UdU_J"
      },
      "source": [
        "\n",
        "```\n",
        "model = linear_model.Ridge()\n",
        "model.fit(X_train, y_train)\n",
        "print('Fit coefficients and intercept:\\n\\n', model.coef_, '\\n\\n', model.intercept_ )\n",
        "\n",
        "# Predict on the test set\n",
        "Y_calc_test = model.predict(X_test)\n",
        "```"
      ]
    },
    {
      "cell_type": "code",
      "metadata": {
        "id": "cHZfKBeiQBwe",
        "colab": {
          "base_uri": "https://localhost:8080/"
        },
        "outputId": "210376de-aee7-4de4-e6b8-0c2576c9ddf0"
      },
      "source": [
        "model = linear_model.Ridge()\n",
        "model.fit(X_train, y_train)\n",
        "print('Fit coefficients and intercept:\\n\\n', model.coef_, '\\n\\n', model.intercept_ )\n",
        "\n",
        "# Predict on the test set\n",
        "Y_calc_test = model.predict(X_test)"
      ],
      "execution_count": 121,
      "outputs": [
        {
          "output_type": "stream",
          "text": [
            "Fit coefficients and intercept:\n",
            "\n",
            " [ 9.09641067e-04  6.43264795e-04  2.78882604e-05  4.16939725e-04\n",
            "  1.03446440e-03 -9.27657730e-06  2.32153681e-06  4.66188798e-03\n",
            "  1.32184520e-03 -9.33484848e-04 -2.26313220e-07] \n",
            "\n",
            " 0.9811476280427127\n"
          ],
          "name": "stdout"
        }
      ]
    },
    {
      "cell_type": "markdown",
      "metadata": {
        "id": "UCG8yK1yAmbr"
      },
      "source": [
        "```\n",
        "sns.scatterplot(x=Y_calc_test, y=y_test, color=\"lightseagreen\", s=50)\n",
        "plt.title(\"Ridge regression - predict test set\",fontsize=16)\n",
        "plt.xlabel(\"y$^{\\sf calc}$\")\n",
        "plt.ylabel(\"y$^{\\sf true}$\")\n",
        "plt.show()\n",
        "\n",
        "print('Mean squared error: %.2f' % mean_squared_error(y_test, Y_calc_test))\n",
        "print('Coefficient of determination: %.2f' % r2_score(y_test, Y_calc_test))\n",
        "```"
      ]
    },
    {
      "cell_type": "code",
      "metadata": {
        "id": "OdXag_fogYcm"
      },
      "source": [
        "import seaborn as sns"
      ],
      "execution_count": 123,
      "outputs": []
    },
    {
      "cell_type": "code",
      "metadata": {
        "id": "msFDf3JVQBwe",
        "colab": {
          "base_uri": "https://localhost:8080/",
          "height": 338
        },
        "outputId": "ed70d7a9-1c7b-4bba-9e6b-b247fd978816"
      },
      "source": [
        "sns.scatterplot(x=Y_calc_test, y=y_test, color=\"lightseagreen\", s=50)\n",
        "plt.title(\"Ridge regression - predict test set\",fontsize=16)\n",
        "plt.xlabel(\"y$^{\\sf calc}$\")\n",
        "plt.ylabel(\"y$^{\\sf true}$\")\n",
        "plt.show()\n",
        "\n",
        "print('Mean squared error: %.2f' % mean_squared_error(y_test, Y_calc_test))\n",
        "print('Coefficient of determination: %.2f' % r2_score(y_test, Y_calc_test))"
      ],
      "execution_count": 124,
      "outputs": [
        {
          "output_type": "display_data",
          "data": {
            "image/png": "[encoded data removed]",
            "text/plain": [
              "<Figure size 432x288 with 1 Axes>"
            ]
          },
          "metadata": {
            "tags": [],
            "needs_background": "light"
          }
        },
        {
          "output_type": "stream",
          "text": [
            "Mean squared error: 0.00\n",
            "Coefficient of determination: 0.87\n"
          ],
          "name": "stdout"
        }
      ]
    },
    {
      "cell_type": "markdown",
      "metadata": {
        "id": "1Y6LNo8JkQVi"
      },
      "source": [
        "#### Exercise 6: Tune Hyperparameter for Ridge Regression\n",
        "\n",
        "Use the docstring to peak into the hyperparameters for Ridge Regression. What is the optimal value of lambda?\n",
        "\n",
        "Plot the $\\beta$ values vs $\\lambda$ from the results of your analysis"
      ]
    },
    {
      "cell_type": "code",
      "metadata": {
        "id": "lK96ESEYkP1j"
      },
      "source": [
        "# cell for exercise 3\n",
        "out_lambdas = []\n",
        "out_coefs = []\n",
        "out_scores = []\n",
        "for i in range(10):\n",
        "  lambdas = []\n",
        "  coefs = []\n",
        "  scores = []\n",
        "  X_train, X_test, y_train, y_test = train_test_split(X, y, \n",
        "                                                    test_size=0.20)\n",
        "  for lamb in range(1,110):\n",
        "    model = linear_model.Ridge(alpha=lamb/50, normalize=True)\n",
        "    model.fit(X_train, y_train)\n",
        "    lambdas.append(lamb)\n",
        "    coefs.append(model.coef_)\n",
        "    scores.append(r2_score(y_test, model.predict(X_test)))\n",
        "    # print('MSE: %.4f' % mean_squared_error(y_test, model.predict(X_test)))\n",
        "    # print('R2: %.4f' % r2_score(y_test, model.predict(X_test)))\n",
        "  out_lambdas.append(lambdas)\n",
        "  out_coefs.append(coefs)\n",
        "  out_scores.append(scores)"
      ],
      "execution_count": 125,
      "outputs": []
    },
    {
      "cell_type": "code",
      "metadata": {
        "id": "E2skg1d4gkN5"
      },
      "source": [
        "import numpy as np"
      ],
      "execution_count": 127,
      "outputs": []
    },
    {
      "cell_type": "code",
      "metadata": {
        "id": "RcDdX2z43fPk"
      },
      "source": [
        "coef_means = np.array(out_coefs).mean(axis=0)\n",
        "coef_stds = np.array(out_coefs).std(axis=0)\n",
        "results_means = pd.DataFrame(coef_means,columns=features)\n",
        "results_stds = pd.DataFrame(coef_stds,columns=features)\n",
        "results_means['lambda'] = [i/50 for i in lambdas]"
      ],
      "execution_count": 128,
      "outputs": []
    },
    {
      "cell_type": "code",
      "metadata": {
        "colab": {
          "base_uri": "https://localhost:8080/",
          "height": 609
        },
        "id": "KMbPj2VI34nU",
        "outputId": "3d9bbfaa-8425-4fb7-bcdf-3ab8fe486e79"
      },
      "source": [
        "fig, ax = plt.subplots(1,1,figsize=(10,10))\n",
        "for feat in features:\n",
        "  ax.errorbar([i/50 for i in lambdas], results_means[feat], yerr=results_stds[feat], label=feat)\n",
        "# results.plot('lambda', 'scores', ax=ax[1])\n",
        "ax.legend()"
      ],
      "execution_count": 129,
      "outputs": [
        {
          "output_type": "execute_result",
          "data": {
            "text/plain": [
              "<matplotlib.legend.Legend at 0x7f4273a90150>"
            ]
          },
          "metadata": {
            "tags": []
          },
          "execution_count": 129
        },
        {
          "output_type": "display_data",
          "data": {
            "image/png": "[encoded data removed]",
            "text/plain": [
              "<Figure size 720x720 with 1 Axes>"
            ]
          },
          "metadata": {
            "tags": [],
            "needs_background": "light"
          }
        }
      ]
    },
    {
      "cell_type": "code",
      "metadata": {
        "id": "POaQWUe81qeS"
      },
      "source": [
        "results = pd.DataFrame(coefs,columns=features)\n",
        "results['lambda'] = [i/50 for i in lambdas]\n",
        "results['scores'] = scores"
      ],
      "execution_count": 130,
      "outputs": []
    },
    {
      "cell_type": "code",
      "metadata": {
        "colab": {
          "base_uri": "https://localhost:8080/",
          "height": 351
        },
        "id": "moAZCEhj1jPD",
        "outputId": "b1718a68-4a72-4fff-8d9e-d89db51fc9d6"
      },
      "source": [
        "fig, ax = plt.subplots(1,2,figsize=(10,5))\n",
        "for feat in features:\n",
        "  results.plot('lambda', feat, ax=ax[0])\n",
        "results.plot('lambda', 'scores', ax=ax[1])"
      ],
      "execution_count": 131,
      "outputs": [
        {
          "output_type": "execute_result",
          "data": {
            "text/plain": [
              "<matplotlib.axes._subplots.AxesSubplot at 0x7f4273b2c650>"
            ]
          },
          "metadata": {
            "tags": []
          },
          "execution_count": 131
        },
        {
          "output_type": "display_data",
          "data": {
            "image/png": "[encoded data removed]",
            "text/plain": [
              "<Figure size 720x360 with 2 Axes>"
            ]
          },
          "metadata": {
            "tags": [],
            "needs_background": "light"
          }
        }
      ]
    },
    {
      "cell_type": "markdown",
      "metadata": {
        "id": "zno7Go9pQBwe"
      },
      "source": [
        "## 1.5 **Enrichment**: Additional Regression Exercises\n"
      ]
    },
    {
      "cell_type": "markdown",
      "metadata": {
        "id": "zD4arbEoQBwe"
      },
      "source": [
        "### Problem 1) Number and choice of input features\n",
        "\n",
        "* Load the red wine dataset and evaluate how the linear regression predictions changes as you change the **number and choice of input features**. The total number of columns in X  is 11 and each column represent a specific input feature. \n",
        "\n",
        "* Estimate the MSE\n",
        "```\n",
        "print(X_train.shape)\n",
        "```"
      ]
    },
    {
      "cell_type": "code",
      "metadata": {
        "id": "h2ICebfcQBwe",
        "colab": {
          "base_uri": "https://localhost:8080/"
        },
        "outputId": "76d47e61-8556-4aa8-dca6-25b255127213"
      },
      "source": [
        "print(X_train.shape)"
      ],
      "execution_count": null,
      "outputs": [
        {
          "output_type": "stream",
          "text": [
            "(1274, 11)\n"
          ],
          "name": "stdout"
        }
      ]
    },
    {
      "cell_type": "markdown",
      "metadata": {
        "id": "RLn81xNxQBwe"
      },
      "source": [
        "If you want to use the first 5 features you could proceed as following:\n",
        "\n",
        "```\n",
        "X_train_five = X_train[:,0:5]\n",
        "X_test_five = X_test[:,0:5]\n",
        "```"
      ]
    },
    {
      "cell_type": "code",
      "metadata": {
        "id": "Xf9x-TLKQBwe"
      },
      "source": [
        "X_train_five = X_train[:,0:5]\n",
        "X_test_five = X_test[:,0:5]"
      ],
      "execution_count": null,
      "outputs": []
    },
    {
      "cell_type": "markdown",
      "metadata": {
        "id": "sD92DqDIQBwe"
      },
      "source": [
        "Check that the new variables have the shape your expect\n",
        "\n",
        "```\n",
        "print(X_train_five.shape)\n",
        "print(X_test_five.shape)\n",
        "```"
      ]
    },
    {
      "cell_type": "code",
      "metadata": {
        "id": "mQx4hjiHQBwe",
        "colab": {
          "base_uri": "https://localhost:8080/"
        },
        "outputId": "bd845176-3242-4a4a-d31f-bc511a73d89d"
      },
      "source": [
        "print(X_train_five.shape)\n",
        "print(X_test_five.shape)"
      ],
      "execution_count": null,
      "outputs": [
        {
          "output_type": "stream",
          "text": [
            "(1274, 5)\n",
            "(319, 5)\n"
          ],
          "name": "stdout"
        }
      ]
    },
    {
      "cell_type": "markdown",
      "metadata": {
        "id": "acc0Ec-GQBwe"
      },
      "source": [
        "Now you can use these to train your linear regression model and repeat for different numbers or sets of input features! Note that you do not need to change the output feature! It's size is independent from the number of input features, yet recall that its length is the same as the number of values per input feature."
      ]
    },
    {
      "cell_type": "markdown",
      "metadata": {
        "id": "LVImG8v5QBwe"
      },
      "source": [
        "Questions to think about while you work on this problem\n",
        "- How many input feature variables does one need? Is there a maximum or minimum number? \n",
        "- Could one input feature variable be better than the rest?\n",
        "- What if values are missing for one of the input feature variables - is it still worth using it?\n",
        "- Can you use **_L1_** or **_L2_** to determine these optimum features more quickly?"
      ]
    },
    {
      "cell_type": "markdown",
      "metadata": {
        "id": "-ZxX8WJiQBwe"
      },
      "source": [
        "### Problem 2) Type of regression algorithm\n"
      ]
    },
    {
      "cell_type": "markdown",
      "metadata": {
        "id": "BeV8J102QBwe"
      },
      "source": [
        "Try using other types of linear regression methods on the wine dataset: the LASSO model and the Elastic net model which are described by the \n",
        "\n",
        "<code > sklearn.linear_model.ElasticNet() </code> <br>\n",
        "<code > sklearn.linear_model.Lasso() </code>\n",
        "\n",
        "scikit-learn functions.\n",
        "\n",
        "For more detail see [ElasticNet](https://scikit-learn.org/stable/modules/generated/sklearn.linear_model.ElasticNet.html#sklearn.linear_model.ElasticNet) and [Lasso](  https://scikit-learn.org/stable/modules/generated/sklearn.linear_model.Lasso.html#sklearn.linear_model.Lasso)."
      ]
    },
    {
      "cell_type": "markdown",
      "metadata": {
        "id": "BlFPAeTHQBwe"
      },
      "source": [
        "Questions to think about while you work on this problem\n",
        "- How does the error change with each model?\n",
        "- Which model seems to perform best?\n",
        "- How can you optimize the hyperparameter, $\\lambda$\n",
        "- Does one model do better than the other at determining which input features are more important?\n",
        "- How about non linear regression / what if the data does not follow a line?\n",
        "- How do the bias and variance change for each model"
      ]
    },
    {
      "cell_type": "code",
      "metadata": {
        "id": "wrIdCkmrX-tN"
      },
      "source": [
        "from sklearn.linear_model import ElasticNet\n",
        "from sklearn.linear_model import Lasso\n",
        "from sklearn.linear_model import Ridge\n",
        "from sklearn.linear_model import LinearRegression"
      ],
      "execution_count": null,
      "outputs": []
    },
    {
      "cell_type": "code",
      "metadata": {
        "colab": {
          "base_uri": "https://localhost:8080/"
        },
        "id": "u1BTeOCJY3z1",
        "outputId": "79d1b2f6-02a7-47a1-b8ed-fc010960d405"
      },
      "source": [
        "for model in [ElasticNet, Lasso, Ridge, LinearRegression]:\n",
        "  model = model()\n",
        "  model.fit(X_train, y_train)\n",
        "  print('Mean squared error: %.2f' % mean_squared_error(y_test, model.predict(X_test)))\n",
        "  print('Coefficient of determination: %.2f' % r2_score(y_test, model.predict(X_test)))"
      ],
      "execution_count": null,
      "outputs": [
        {
          "output_type": "stream",
          "text": [
            "Mean squared error: 0.00\n",
            "Coefficient of determination: -0.00\n",
            "Mean squared error: 0.00\n",
            "Coefficient of determination: -0.00\n",
            "Mean squared error: 0.00\n",
            "Coefficient of determination: 0.85\n",
            "Mean squared error: 0.00\n",
            "Coefficient of determination: 0.85\n"
          ],
          "name": "stdout"
        }
      ]
    },
    {
      "cell_type": "markdown",
      "metadata": {
        "id": "rfEP3u6mQBwe"
      },
      "source": [
        "<hr style=\"border:1px solid grey\"> </hr>"
      ]
    },
    {
      "cell_type": "markdown",
      "metadata": {
        "id": "2CJ1j1KcQBwe"
      },
      "source": [
        "# References"
      ]
    },
    {
      "cell_type": "markdown",
      "metadata": {
        "id": "cuQ-DIbZQBwe"
      },
      "source": [
        "* **Linear Regression**\n",
        "To find out more see https://en.wikipedia.org/wiki/Simple_linear_regression\n",
        "\n",
        "* **scikit-learn**\n",
        " * Scikit-learn: https://scikit-learn.org/stable/\n",
        " * Linear regression in scikit-learn: https://scikit-learn.org/stable/modules/generated/sklearn.linear_model.LinearRegression.html\n",
        " * Metrics of error: https://scikit-learn.org/stable/modules/model_evaluation.html\n",
        "  * The Boston dataset: https://scikit-learn.org/stable/datasets/index.html#boston-dataset\n",
        "\n",
        "* **Pearson correlation**\n",
        "To find out more see https://en.wikipedia.org/wiki/Pearson_correlation_coefficient\n",
        "\n",
        "* **Irreducible error, bias and variance**\n",
        " * Great Coursera videos here: https://www.coursera.org/lecture/ml-regression/irreducible-error-and-bias-qlMrZ\n",
        "and here: https://www.coursera.org/lecture/ml-regression/variance-and-the-bias-variance-tradeoff-ZvP40\n"
      ]
    }
  ]
}